{
 "cells": [
  {
   "attachments": {
    "2020-12-10%20%281%29.png": {
     "image/png": "[encoded data removed]"
    }
   },
   "cell_type": "markdown",
   "metadata": {},
   "source": [
    "通し課題\n",
    "================================\n",
    "----------------------------\n",
    "\n",
    "\n",
    "* タイトル：クラウドファンディングに成功するかどうかを識別する\n",
    "* 氏名　　：戸野塚 蓮\n",
    "* 課題　　：Kaggle「Kickstarter Projects」\n",
    "* 方針　　：\"state\"を目的変数とする成功失敗の2分類\n",
    "\n",
    "\n",
    "----------------\n",
    "### 作業方針\n",
    "#####  データの確認\n",
    "* データセットの読み込み\n",
    "* 不要なカラムの削除\n",
    "\n",
    "##### データの可視化\n",
    "* 成功失敗の関係性\n",
    "* 外れ値の確認\n",
    "\n",
    "##### 前処理\n",
    "* 目的変数を2値に変更する\n",
    "* 質的変数を量的変数へ\n",
    "* 不要なデータを削除\n",
    "\n",
    "##### モデル構築\n",
    "* 線形回帰モデルで予測する\n",
    "* クロスバリデーション・ハイパーパラメータチューニングを行う\n",
    "* 無相関化・特徴量選択をし精度の向上を測る\n",
    "* SVM（非線形分離）\n",
    "* 決定木\n",
    "* ニューラルネットワーク\n",
    "-------------\n",
    "\n",
    "### リンク\n",
    "\n",
    "* kaggle https://www.kaggle.com/kemical/kickstarter-projects\n",
    "-------------\n",
    "\n",
    "### データの概要\n",
    "\n",
    "![2020-12-10%20%281%29.png](attachment:2020-12-10%20%281%29.png)"
   ]
  },
  {
   "cell_type": "markdown",
   "metadata": {},
   "source": [
    "### 1.データセットの読み込みと確認"
   ]
  },
  {
   "cell_type": "code",
   "execution_count": 1,
   "metadata": {},
   "outputs": [
    {
     "data": {
      "text/html": [
       "<div>\n",
       "<style scoped>\n",
       "    .dataframe tbody tr th:only-of-type {\n",
       "        vertical-align: middle;\n",
       "    }\n",
       "\n",
       "    .dataframe tbody tr th {\n",
       "        vertical-align: top;\n",
       "    }\n",
       "\n",
       "    .dataframe thead th {\n",
       "        text-align: right;\n",
       "    }\n",
       "</style>\n",
       "<table border=\"1\" class=\"dataframe\">\n",
       "  <thead>\n",
       "    <tr style=\"text-align: right;\">\n",
       "      <th></th>\n",
       "      <th>ID</th>\n",
       "      <th>name</th>\n",
       "      <th>category</th>\n",
       "      <th>main_category</th>\n",
       "      <th>currency</th>\n",
       "      <th>deadline</th>\n",
       "      <th>goal</th>\n",
       "      <th>launched</th>\n",
       "      <th>pledged</th>\n",
       "      <th>state</th>\n",
       "      <th>backers</th>\n",
       "      <th>country</th>\n",
       "      <th>usd pledged</th>\n",
       "      <th>usd_pledged_real</th>\n",
       "      <th>usd_goal_real</th>\n",
       "    </tr>\n",
       "  </thead>\n",
       "  <tbody>\n",
       "    <tr>\n",
       "      <th>0</th>\n",
       "      <td>1000002330</td>\n",
       "      <td>The Songs of Adelaide &amp; Abullah</td>\n",
       "      <td>Poetry</td>\n",
       "      <td>Publishing</td>\n",
       "      <td>GBP</td>\n",
       "      <td>2015-10-09</td>\n",
       "      <td>1000.0</td>\n",
       "      <td>2015-08-11 12:12:28</td>\n",
       "      <td>0.0</td>\n",
       "      <td>failed</td>\n",
       "      <td>0</td>\n",
       "      <td>GB</td>\n",
       "      <td>0.0</td>\n",
       "      <td>0.0</td>\n",
       "      <td>1533.95</td>\n",
       "    </tr>\n",
       "    <tr>\n",
       "      <th>1</th>\n",
       "      <td>1000003930</td>\n",
       "      <td>Greeting From Earth: ZGAC Arts Capsule For ET</td>\n",
       "      <td>Narrative Film</td>\n",
       "      <td>Film &amp; Video</td>\n",
       "      <td>USD</td>\n",
       "      <td>2017-11-01</td>\n",
       "      <td>30000.0</td>\n",
       "      <td>2017-09-02 04:43:57</td>\n",
       "      <td>2421.0</td>\n",
       "      <td>failed</td>\n",
       "      <td>15</td>\n",
       "      <td>US</td>\n",
       "      <td>100.0</td>\n",
       "      <td>2421.0</td>\n",
       "      <td>30000.00</td>\n",
       "    </tr>\n",
       "    <tr>\n",
       "      <th>2</th>\n",
       "      <td>1000004038</td>\n",
       "      <td>Where is Hank?</td>\n",
       "      <td>Narrative Film</td>\n",
       "      <td>Film &amp; Video</td>\n",
       "      <td>USD</td>\n",
       "      <td>2013-02-26</td>\n",
       "      <td>45000.0</td>\n",
       "      <td>2013-01-12 00:20:50</td>\n",
       "      <td>220.0</td>\n",
       "      <td>failed</td>\n",
       "      <td>3</td>\n",
       "      <td>US</td>\n",
       "      <td>220.0</td>\n",
       "      <td>220.0</td>\n",
       "      <td>45000.00</td>\n",
       "    </tr>\n",
       "    <tr>\n",
       "      <th>3</th>\n",
       "      <td>1000007540</td>\n",
       "      <td>ToshiCapital Rekordz Needs Help to Complete Album</td>\n",
       "      <td>Music</td>\n",
       "      <td>Music</td>\n",
       "      <td>USD</td>\n",
       "      <td>2012-04-16</td>\n",
       "      <td>5000.0</td>\n",
       "      <td>2012-03-17 03:24:11</td>\n",
       "      <td>1.0</td>\n",
       "      <td>failed</td>\n",
       "      <td>1</td>\n",
       "      <td>US</td>\n",
       "      <td>1.0</td>\n",
       "      <td>1.0</td>\n",
       "      <td>5000.00</td>\n",
       "    </tr>\n",
       "    <tr>\n",
       "      <th>4</th>\n",
       "      <td>1000011046</td>\n",
       "      <td>Community Film Project: The Art of Neighborhoo...</td>\n",
       "      <td>Film &amp; Video</td>\n",
       "      <td>Film &amp; Video</td>\n",
       "      <td>USD</td>\n",
       "      <td>2015-08-29</td>\n",
       "      <td>19500.0</td>\n",
       "      <td>2015-07-04 08:35:03</td>\n",
       "      <td>1283.0</td>\n",
       "      <td>canceled</td>\n",
       "      <td>14</td>\n",
       "      <td>US</td>\n",
       "      <td>1283.0</td>\n",
       "      <td>1283.0</td>\n",
       "      <td>19500.00</td>\n",
       "    </tr>\n",
       "  </tbody>\n",
       "</table>\n",
       "</div>"
      ],
      "text/plain": [
       "           ID                                               name  \\\n",
       "0  1000002330                    The Songs of Adelaide & Abullah   \n",
       "1  1000003930      Greeting From Earth: ZGAC Arts Capsule For ET   \n",
       "2  1000004038                                     Where is Hank?   \n",
       "3  1000007540  ToshiCapital Rekordz Needs Help to Complete Album   \n",
       "4  1000011046  Community Film Project: The Art of Neighborhoo...   \n",
       "\n",
       "         category main_category currency    deadline     goal  \\\n",
       "0          Poetry    Publishing      GBP  2015-10-09   1000.0   \n",
       "1  Narrative Film  Film & Video      USD  2017-11-01  30000.0   \n",
       "2  Narrative Film  Film & Video      USD  2013-02-26  45000.0   \n",
       "3           Music         Music      USD  2012-04-16   5000.0   \n",
       "4    Film & Video  Film & Video      USD  2015-08-29  19500.0   \n",
       "\n",
       "              launched  pledged     state  backers country  usd pledged  \\\n",
       "0  2015-08-11 12:12:28      0.0    failed        0      GB          0.0   \n",
       "1  2017-09-02 04:43:57   2421.0    failed       15      US        100.0   \n",
       "2  2013-01-12 00:20:50    220.0    failed        3      US        220.0   \n",
       "3  2012-03-17 03:24:11      1.0    failed        1      US          1.0   \n",
       "4  2015-07-04 08:35:03   1283.0  canceled       14      US       1283.0   \n",
       "\n",
       "   usd_pledged_real  usd_goal_real  \n",
       "0               0.0        1533.95  \n",
       "1            2421.0       30000.00  \n",
       "2             220.0       45000.00  \n",
       "3               1.0        5000.00  \n",
       "4            1283.0       19500.00  "
      ]
     },
     "execution_count": 1,
     "metadata": {},
     "output_type": "execute_result"
    }
   ],
   "source": [
    "%matplotlib inline\n",
    "import pandas as pd\n",
    "import numpy as np\n",
    "import seaborn as sns\n",
    "import matplotlib.pyplot as plt\n",
    "from sklearn.linear_model import SGDClassifier\n",
    "from sklearn.metrics import log_loss, accuracy_score, confusion_matrix\n",
    "from sklearn.preprocessing import StandardScaler, LabelEncoder\n",
    "from sklearn.linear_model import LinearRegression\n",
    "from sklearn.model_selection import train_test_split # ホールドアウト法に関する関数\n",
    "from sklearn.model_selection import KFold # 交差検証法に関する関数\n",
    "\n",
    "\n",
    "df_csv = pd.read_csv(\n",
    "    r\"C:\\Users\\progr\\OneDrive\\kaggle\\ks-projects-201801.csv\")\n",
    "df_csv.head()"
   ]
  },
  {
   "cell_type": "code",
   "execution_count": 2,
   "metadata": {
    "scrolled": true
   },
   "outputs": [
    {
     "name": "stdout",
     "output_type": "stream",
     "text": [
      "<class 'pandas.core.frame.DataFrame'>\n",
      "RangeIndex: 378661 entries, 0 to 378660\n",
      "Data columns (total 15 columns):\n",
      "ID                  378661 non-null int64\n",
      "name                378657 non-null object\n",
      "category            378661 non-null object\n",
      "main_category       378661 non-null object\n",
      "currency            378661 non-null object\n",
      "deadline            378661 non-null object\n",
      "goal                378661 non-null float64\n",
      "launched            378661 non-null object\n",
      "pledged             378661 non-null float64\n",
      "state               378661 non-null object\n",
      "backers             378661 non-null int64\n",
      "country             378661 non-null object\n",
      "usd pledged         374864 non-null float64\n",
      "usd_pledged_real    378661 non-null float64\n",
      "usd_goal_real       378661 non-null float64\n",
      "dtypes: float64(5), int64(2), object(8)\n",
      "memory usage: 43.3+ MB\n"
     ]
    },
    {
     "data": {
      "text/plain": [
       "None"
      ]
     },
     "metadata": {},
     "output_type": "display_data"
    },
    {
     "data": {
      "text/plain": [
       "ID                     0\n",
       "name                   4\n",
       "category               0\n",
       "main_category          0\n",
       "currency               0\n",
       "deadline               0\n",
       "goal                   0\n",
       "launched               0\n",
       "pledged                0\n",
       "state                  0\n",
       "backers                0\n",
       "country                0\n",
       "usd pledged         3797\n",
       "usd_pledged_real       0\n",
       "usd_goal_real          0\n",
       "dtype: int64"
      ]
     },
     "metadata": {},
     "output_type": "display_data"
    }
   ],
   "source": [
    "#データの情報収集　欠損値がないか確認する\n",
    "display(df_csv.info())\n",
    "display(df_csv.isnull().sum())"
   ]
  },
  {
   "cell_type": "code",
   "execution_count": 3,
   "metadata": {},
   "outputs": [
    {
     "data": {
      "text/html": [
       "<div>\n",
       "<style scoped>\n",
       "    .dataframe tbody tr th:only-of-type {\n",
       "        vertical-align: middle;\n",
       "    }\n",
       "\n",
       "    .dataframe tbody tr th {\n",
       "        vertical-align: top;\n",
       "    }\n",
       "\n",
       "    .dataframe thead th {\n",
       "        text-align: right;\n",
       "    }\n",
       "</style>\n",
       "<table border=\"1\" class=\"dataframe\">\n",
       "  <thead>\n",
       "    <tr style=\"text-align: right;\">\n",
       "      <th></th>\n",
       "      <th>name</th>\n",
       "      <th>category</th>\n",
       "      <th>main_category</th>\n",
       "      <th>currency</th>\n",
       "      <th>deadline</th>\n",
       "      <th>goal</th>\n",
       "      <th>launched</th>\n",
       "      <th>state</th>\n",
       "      <th>country</th>\n",
       "      <th>usd_goal_real</th>\n",
       "    </tr>\n",
       "  </thead>\n",
       "  <tbody>\n",
       "    <tr>\n",
       "      <th>0</th>\n",
       "      <td>The Songs of Adelaide &amp; Abullah</td>\n",
       "      <td>Poetry</td>\n",
       "      <td>Publishing</td>\n",
       "      <td>GBP</td>\n",
       "      <td>2015-10-09</td>\n",
       "      <td>1000.0</td>\n",
       "      <td>2015-08-11 12:12:28</td>\n",
       "      <td>failed</td>\n",
       "      <td>GB</td>\n",
       "      <td>1533.95</td>\n",
       "    </tr>\n",
       "    <tr>\n",
       "      <th>1</th>\n",
       "      <td>Greeting From Earth: ZGAC Arts Capsule For ET</td>\n",
       "      <td>Narrative Film</td>\n",
       "      <td>Film &amp; Video</td>\n",
       "      <td>USD</td>\n",
       "      <td>2017-11-01</td>\n",
       "      <td>30000.0</td>\n",
       "      <td>2017-09-02 04:43:57</td>\n",
       "      <td>failed</td>\n",
       "      <td>US</td>\n",
       "      <td>30000.00</td>\n",
       "    </tr>\n",
       "    <tr>\n",
       "      <th>2</th>\n",
       "      <td>Where is Hank?</td>\n",
       "      <td>Narrative Film</td>\n",
       "      <td>Film &amp; Video</td>\n",
       "      <td>USD</td>\n",
       "      <td>2013-02-26</td>\n",
       "      <td>45000.0</td>\n",
       "      <td>2013-01-12 00:20:50</td>\n",
       "      <td>failed</td>\n",
       "      <td>US</td>\n",
       "      <td>45000.00</td>\n",
       "    </tr>\n",
       "    <tr>\n",
       "      <th>3</th>\n",
       "      <td>ToshiCapital Rekordz Needs Help to Complete Album</td>\n",
       "      <td>Music</td>\n",
       "      <td>Music</td>\n",
       "      <td>USD</td>\n",
       "      <td>2012-04-16</td>\n",
       "      <td>5000.0</td>\n",
       "      <td>2012-03-17 03:24:11</td>\n",
       "      <td>failed</td>\n",
       "      <td>US</td>\n",
       "      <td>5000.00</td>\n",
       "    </tr>\n",
       "    <tr>\n",
       "      <th>4</th>\n",
       "      <td>Community Film Project: The Art of Neighborhoo...</td>\n",
       "      <td>Film &amp; Video</td>\n",
       "      <td>Film &amp; Video</td>\n",
       "      <td>USD</td>\n",
       "      <td>2015-08-29</td>\n",
       "      <td>19500.0</td>\n",
       "      <td>2015-07-04 08:35:03</td>\n",
       "      <td>canceled</td>\n",
       "      <td>US</td>\n",
       "      <td>19500.00</td>\n",
       "    </tr>\n",
       "  </tbody>\n",
       "</table>\n",
       "</div>"
      ],
      "text/plain": [
       "                                                name        category  \\\n",
       "0                    The Songs of Adelaide & Abullah          Poetry   \n",
       "1      Greeting From Earth: ZGAC Arts Capsule For ET  Narrative Film   \n",
       "2                                     Where is Hank?  Narrative Film   \n",
       "3  ToshiCapital Rekordz Needs Help to Complete Album           Music   \n",
       "4  Community Film Project: The Art of Neighborhoo...    Film & Video   \n",
       "\n",
       "  main_category currency    deadline     goal             launched     state  \\\n",
       "0    Publishing      GBP  2015-10-09   1000.0  2015-08-11 12:12:28    failed   \n",
       "1  Film & Video      USD  2017-11-01  30000.0  2017-09-02 04:43:57    failed   \n",
       "2  Film & Video      USD  2013-02-26  45000.0  2013-01-12 00:20:50    failed   \n",
       "3         Music      USD  2012-04-16   5000.0  2012-03-17 03:24:11    failed   \n",
       "4  Film & Video      USD  2015-08-29  19500.0  2015-07-04 08:35:03  canceled   \n",
       "\n",
       "  country  usd_goal_real  \n",
       "0      GB        1533.95  \n",
       "1      US       30000.00  \n",
       "2      US       45000.00  \n",
       "3      US        5000.00  \n",
       "4      US       19500.00  "
      ]
     },
     "execution_count": 3,
     "metadata": {},
     "output_type": "execute_result"
    }
   ],
   "source": [
    "#続いて目的変数として不要なID、結果として得られるカラムを削除する\n",
    "# \"deadline\", \"launched\" は、前処理の段階で扱うので、残しておく\n",
    "df_csv = df_csv.drop(columns=[\"ID\",\"pledged\",\"usd pledged\",\"usd_pledged_real\",\"backers\"])\n",
    "df_csv.head()\n"
   ]
  },
  {
   "cell_type": "code",
   "execution_count": 4,
   "metadata": {},
   "outputs": [
    {
     "data": {
      "text/plain": [
       "name             0\n",
       "category         0\n",
       "main_category    0\n",
       "currency         0\n",
       "deadline         0\n",
       "goal             0\n",
       "launched         0\n",
       "state            0\n",
       "country          0\n",
       "usd_goal_real    0\n",
       "dtype: int64"
      ]
     },
     "execution_count": 4,
     "metadata": {},
     "output_type": "execute_result"
    }
   ],
   "source": [
    "#欠損している場所が僅かなので今回は削除する\n",
    "df_csv = df_csv.dropna()\n",
    "df_csv.isnull().sum()"
   ]
  },
  {
   "cell_type": "code",
   "execution_count": 5,
   "metadata": {},
   "outputs": [
    {
     "name": "stdout",
     "output_type": "stream",
     "text": [
      "<class 'pandas.core.frame.DataFrame'>\n",
      "Int64Index: 378657 entries, 0 to 378660\n",
      "Data columns (total 10 columns):\n",
      "name             378657 non-null object\n",
      "category         378657 non-null object\n",
      "main_category    378657 non-null object\n",
      "currency         378657 non-null object\n",
      "deadline         378657 non-null object\n",
      "goal             378657 non-null float64\n",
      "launched         378657 non-null object\n",
      "state            378657 non-null object\n",
      "country          378657 non-null object\n",
      "usd_goal_real    378657 non-null float64\n",
      "dtypes: float64(2), object(8)\n",
      "memory usage: 31.8+ MB\n"
     ]
    },
    {
     "data": {
      "text/plain": [
       "None"
      ]
     },
     "metadata": {},
     "output_type": "display_data"
    },
    {
     "data": {
      "text/plain": [
       "name             0\n",
       "category         0\n",
       "main_category    0\n",
       "currency         0\n",
       "deadline         0\n",
       "goal             0\n",
       "launched         0\n",
       "state            0\n",
       "country          0\n",
       "usd_goal_real    0\n",
       "dtype: int64"
      ]
     },
     "metadata": {},
     "output_type": "display_data"
    }
   ],
   "source": [
    "#データの情報収集　欠損値がないか確認する\n",
    "display(df_csv.info())\n",
    "display(df_csv.isnull().sum())"
   ]
  },
  {
   "cell_type": "markdown",
   "metadata": {},
   "source": [
    "----------------\n",
    "### 2.データの可視化"
   ]
  },
  {
   "cell_type": "code",
   "execution_count": 6,
   "metadata": {
    "scrolled": true
   },
   "outputs": [
    {
     "data": {
      "image/png": "[encoded data removed]",
      "text/plain": [
       "<Figure size 720x720 with 4 Axes>"
      ]
     },
     "metadata": {
      "needs_background": "light"
     },
     "output_type": "display_data"
    }
   ],
   "source": [
    "# 散布図行列を書いてみる\n",
    "pd.plotting.scatter_matrix(df_csv, figsize=(10,10))\n",
    "plt.show()"
   ]
  },
  {
   "cell_type": "markdown",
   "metadata": {},
   "source": [
    "これだけでは、どれを説明変数として使ったらよいか分からないので、詳しく可視化を試みる"
   ]
  },
  {
   "cell_type": "markdown",
   "metadata": {},
   "source": [
    "----------------\n",
    "##### 2.データの可視化 - 国別\n",
    "国別で成功、失敗の偏りが無いか確認してみる"
   ]
  },
  {
   "cell_type": "code",
   "execution_count": 7,
   "metadata": {},
   "outputs": [
    {
     "data": {
      "text/plain": [
       "failed        197716\n",
       "successful    133956\n",
       "canceled       38779\n",
       "undefined       3562\n",
       "live            2799\n",
       "suspended       1845\n",
       "Name: state, dtype: int64"
      ]
     },
     "execution_count": 7,
     "metadata": {},
     "output_type": "execute_result"
    }
   ],
   "source": [
    "#stateの中に何が含まれるか確認する\n",
    "df_csv[\"state\"].value_counts()"
   ]
  },
  {
   "cell_type": "code",
   "execution_count": 8,
   "metadata": {
    "scrolled": true
   },
   "outputs": [
    {
     "data": {
      "text/plain": [
       "<matplotlib.legend.Legend at 0x27f70ae2390>"
      ]
     },
     "execution_count": 8,
     "metadata": {},
     "output_type": "execute_result"
    },
    {
     "data": {
      "image/png": "[encoded data removed]",
      "text/plain": [
       "<Figure size 1080x360 with 2 Axes>"
      ]
     },
     "metadata": {
      "needs_background": "light"
     },
     "output_type": "display_data"
    }
   ],
   "source": [
    "#国によって成功,失敗が異なるか見てみる\n",
    "succ_country = df_csv[df_csv[\"state\"]==\"successful\"][\"country\"].value_counts()\n",
    "fali_country = df_csv[df_csv[\"state\"]==\"failed\"][\"country\"].value_counts()\n",
    "\n",
    "fig,ax = plt.subplots(1,2,figsize=(15,5))\n",
    "sns.barplot(succ_country.keys(), succ_country.values,ax=ax[0],label=\"successful\")\n",
    "sns.barplot(fali_country.keys(), fali_country.values,ax=ax[1],label=\"failed\")\n",
    "ax[0].legend()\n",
    "ax[1].legend()"
   ]
  },
  {
   "cell_type": "markdown",
   "metadata": {},
   "source": [
    "成功、失敗は国によって関係ありそうだが、そもそもUSのデータが多い可能性もあるため、国のデータの数も調べてみる"
   ]
  },
  {
   "cell_type": "code",
   "execution_count": 9,
   "metadata": {},
   "outputs": [
    {
     "data": {
      "text/plain": [
       "<matplotlib.axes._subplots.AxesSubplot at 0x27f678415c0>"
      ]
     },
     "execution_count": 9,
     "metadata": {},
     "output_type": "execute_result"
    },
    {
     "data": {
      "image/png": "[encoded data removed]",
      "text/plain": [
       "<Figure size 432x288 with 1 Axes>"
      ]
     },
     "metadata": {
      "needs_background": "light"
     },
     "output_type": "display_data"
    }
   ],
   "source": [
    "#国ごとのデータの数を可視化してみる\n",
    "sns.countplot(df_csv[\"country\"])"
   ]
  },
  {
   "cell_type": "markdown",
   "metadata": {},
   "source": [
    "やはりデータの数は成功、失敗の数に関係しそうだが上位4ヵ国以降はデータの数にさほどバラつきがないため説明変数として有効であると考えられる"
   ]
  },
  {
   "cell_type": "markdown",
   "metadata": {},
   "source": [
    "----------------\n",
    "##### 2.データの可視化 - 期間\n",
    "クラウドファンディングの募集期間が成功、失敗に関係していないか見てみる"
   ]
  },
  {
   "cell_type": "code",
   "execution_count": 10,
   "metadata": {},
   "outputs": [
    {
     "data": {
      "text/plain": [
       "0    58\n",
       "1    59\n",
       "2    44\n",
       "3    29\n",
       "4    55\n",
       "Name: day, dtype: int64"
      ]
     },
     "execution_count": 10,
     "metadata": {},
     "output_type": "execute_result"
    }
   ],
   "source": [
    "#始まりの日時と終わりの日時を用いてクラウドファンディングが行われた期間を求める\n",
    "\n",
    "df_csv[\"deadline\"] = pd.to_datetime(df_csv[\"deadline\"], errors=\"coerce\")\n",
    "df_csv[\"launched\"] = pd.to_datetime(df_csv[\"launched\"], errors=\"coerce\")\n",
    "df_csv[\"day\"] = (df_csv[\"deadline\"] - df_csv[\"launched\"]).dt.days\n",
    "df_csv[\"day\"].head()"
   ]
  },
  {
   "cell_type": "code",
   "execution_count": 11,
   "metadata": {
    "scrolled": true
   },
   "outputs": [
    {
     "data": {
      "text/plain": [
       "<matplotlib.legend.Legend at 0x27f768fdf60>"
      ]
     },
     "execution_count": 11,
     "metadata": {},
     "output_type": "execute_result"
    },
    {
     "data": {
      "image/png": "[encoded data removed]",
      "text/plain": [
       "<Figure size 1440x1440 with 3 Axes>"
      ]
     },
     "metadata": {
      "needs_background": "light"
     },
     "output_type": "display_data"
    }
   ],
   "source": [
    "fig,ax = plt.subplots(3,1,figsize=(20,20))\n",
    "\n",
    "#期間の散らばりを可視化する\n",
    "sns.countplot(df_csv[\"day\"],ax=ax[0],label=\"successful&failed\")\n",
    "\n",
    "#期間別に成功、失敗の偏りがないか可視化する\n",
    "succ_day = df_csv[df_csv[\"state\"]==\"successful\"][\"day\"].value_counts()\n",
    "fali_day = df_csv[df_csv[\"state\"]==\"failed\"][\"day\"].value_counts()\n",
    "\n",
    "sns.barplot(succ_day.keys(), succ_day.values,ax=ax[1],label=\"successful\")\n",
    "sns.barplot(fali_day.keys(), fali_day.values,ax=ax[2],label=\"failed\")\n",
    "ax[0].legend()\n",
    "ax[1].legend()\n",
    "ax[2].legend()"
   ]
  },
  {
   "cell_type": "markdown",
   "metadata": {},
   "source": [
    "総数が大きいのでこれだけでは明確には判断できない"
   ]
  },
  {
   "cell_type": "code",
   "execution_count": 12,
   "metadata": {},
   "outputs": [
    {
     "data": {
      "text/plain": [
       "<matplotlib.axes._subplots.AxesSubplot at 0x27f70c580f0>"
      ]
     },
     "execution_count": 12,
     "metadata": {},
     "output_type": "execute_result"
    },
    {
     "data": {
      "image/png": "[encoded data removed]",
      "text/plain": [
       "<Figure size 432x288 with 1 Axes>"
      ]
     },
     "metadata": {
      "needs_background": "light"
     },
     "output_type": "display_data"
    }
   ],
   "source": [
    "#外れ値を確認する\n",
    "sns.boxplot(df_csv[\"day\"])"
   ]
  },
  {
   "cell_type": "markdown",
   "metadata": {},
   "source": [
    "大きな外れ値がある事が確認できるため、前処理の段階でどのような処理を施すか決める"
   ]
  },
  {
   "cell_type": "markdown",
   "metadata": {},
   "source": [
    "----------------\n",
    "##### 2.データの可視化 - カテゴリー別\n",
    "カテゴリー別で成功、失敗の偏りが無いか確認してみる"
   ]
  },
  {
   "cell_type": "code",
   "execution_count": 13,
   "metadata": {
    "scrolled": true
   },
   "outputs": [
    {
     "data": {
      "text/plain": [
       "Product Design       22313\n",
       "Documentary          16139\n",
       "Music                15727\n",
       "Tabletop Games       14180\n",
       "Shorts               12357\n",
       "Video Games          11829\n",
       "Food                 11493\n",
       "Film & Video         10108\n",
       "Fiction               9169\n",
       "Fashion               8554\n",
       "Nonfiction            8318\n",
       "Art                   8253\n",
       "Apparel               7166\n",
       "Theater               7057\n",
       "Technology            6930\n",
       "Rock                  6758\n",
       "Children's Books      6756\n",
       "Apps                  6345\n",
       "Publishing            6018\n",
       "Webseries             5762\n",
       "Photography           5752\n",
       "Indie Rock            5657\n",
       "Narrative Film        5187\n",
       "Web                   5153\n",
       "Comics                4996\n",
       "Crafts                4664\n",
       "Country & Folk        4451\n",
       "Design                4199\n",
       "Hip-Hop               3912\n",
       "Hardware              3663\n",
       "                     ...  \n",
       "Couture                275\n",
       "Blues                  268\n",
       "Animals                255\n",
       "Fabrication Tools      250\n",
       "Printing               238\n",
       "Makerspaces            238\n",
       "Movie Theaters         232\n",
       "Puzzles                231\n",
       "Bacon                  221\n",
       "Stationery             219\n",
       "Photo                  196\n",
       "Video Art              194\n",
       "Romance                190\n",
       "Knitting               181\n",
       "Workshops              164\n",
       "Crochet                162\n",
       "Translations           153\n",
       "Pet Fashion            139\n",
       "Glass                  138\n",
       "Latin                  137\n",
       "Embroidery             113\n",
       "Typography             108\n",
       "Pottery                100\n",
       "Weaving                 93\n",
       "Quilts                  81\n",
       "Residencies             69\n",
       "Letterpress             49\n",
       "Chiptune                35\n",
       "Literary Spaces         27\n",
       "Taxidermy               13\n",
       "Name: category, Length: 159, dtype: int64"
      ]
     },
     "execution_count": 13,
     "metadata": {},
     "output_type": "execute_result"
    }
   ],
   "source": [
    "#カテゴリに具体的にどのようなものが含まれるか確認する\n",
    "df_csv[\"category\"].value_counts()"
   ]
  },
  {
   "cell_type": "code",
   "execution_count": 14,
   "metadata": {
    "scrolled": true
   },
   "outputs": [
    {
     "data": {
      "text/plain": [
       "Film & Video    63584\n",
       "Music           51918\n",
       "Publishing      39874\n",
       "Games           35230\n",
       "Technology      32569\n",
       "Design          30069\n",
       "Art             28152\n",
       "Food            24602\n",
       "Fashion         22816\n",
       "Theater         10913\n",
       "Comics          10819\n",
       "Photography     10779\n",
       "Crafts           8809\n",
       "Journalism       4755\n",
       "Dance            3768\n",
       "Name: main_category, dtype: int64"
      ]
     },
     "execution_count": 14,
     "metadata": {},
     "output_type": "execute_result"
    }
   ],
   "source": [
    "#メインカテゴリに具体的にどのようなものが含まれるか確認する\n",
    "df_csv[\"main_category\"].value_counts()"
   ]
  },
  {
   "cell_type": "markdown",
   "metadata": {},
   "source": [
    "今回はメインカテゴリに関して調べてみる"
   ]
  },
  {
   "cell_type": "code",
   "execution_count": 15,
   "metadata": {
    "scrolled": true
   },
   "outputs": [
    {
     "data": {
      "text/plain": [
       "<matplotlib.legend.Legend at 0x27f76a2e940>"
      ]
     },
     "execution_count": 15,
     "metadata": {},
     "output_type": "execute_result"
    },
    {
     "data": {
      "image/png": "[encoded data removed]",
      "text/plain": [
       "<Figure size 1440x1440 with 3 Axes>"
      ]
     },
     "metadata": {
      "needs_background": "light"
     },
     "output_type": "display_data"
    }
   ],
   "source": [
    "fig,ax = plt.subplots(3,1,figsize=(20,20))\n",
    "\n",
    "#期間の散らばりを可視化する\n",
    "sns.countplot(df_csv[\"main_category\"],ax=ax[0],label=\"successful&failed\")\n",
    "\n",
    "#期間別に成功、失敗の偏りがないか可視化する\n",
    "succ_main_cate = df_csv[df_csv[\"state\"]==\"successful\"][\"main_category\"].value_counts()\n",
    "fali_main_cate = df_csv[df_csv[\"state\"]==\"failed\"][\"main_category\"].value_counts()\n",
    "sns.barplot(succ_main_cate.keys(), succ_main_cate.values,ax=ax[1],label=\"successful\")\n",
    "sns.barplot(fali_main_cate.keys(), fali_main_cate.values,ax=ax[2],label=\"failed\")\n",
    "ax[0].legend()\n",
    "ax[1].legend()\n",
    "ax[2].legend()"
   ]
  },
  {
   "cell_type": "markdown",
   "metadata": {},
   "source": [
    "カテゴリ別に成功失敗は大いに関係がありそうに考えられる"
   ]
  },
  {
   "cell_type": "markdown",
   "metadata": {},
   "source": [
    "----------------\n",
    "##### 2.データの可視化 - 目標金額別\n",
    "目標金額別で成功、失敗の偏りが無いか確認してみる"
   ]
  },
  {
   "cell_type": "code",
   "execution_count": 16,
   "metadata": {
    "scrolled": true
   },
   "outputs": [
    {
     "data": {
      "text/plain": [
       "5000.0       29779\n",
       "10000.0      26029\n",
       "1000.0       16950\n",
       "3000.0       15743\n",
       "2000.0       15256\n",
       "15000.0      14231\n",
       "20000.0      13104\n",
       "2500.0       11863\n",
       "500.0        11599\n",
       "25000.0      10371\n",
       "1500.0       10314\n",
       "50000.0       9571\n",
       "4000.0        8310\n",
       "30000.0       7782\n",
       "6000.0        7496\n",
       "3500.0        6791\n",
       "8000.0        6479\n",
       "7000.0        5076\n",
       "12000.0       4987\n",
       "100000.0      4862\n",
       "7500.0        4814\n",
       "35000.0       3592\n",
       "40000.0       3428\n",
       "300.0         3196\n",
       "1200.0        3031\n",
       "4500.0        2912\n",
       "5500.0        2835\n",
       "600.0         2807\n",
       "800.0         2522\n",
       "100.0         2458\n",
       "             ...  \n",
       "10922.0          1\n",
       "2988.0           1\n",
       "765000.0         1\n",
       "2095.0           1\n",
       "11956.0          1\n",
       "49680.0          1\n",
       "15420.0          1\n",
       "1894.0           1\n",
       "7578.0           1\n",
       "5965.0           1\n",
       "4700000.0        1\n",
       "21950.0          1\n",
       "7577.0           1\n",
       "2977.0           1\n",
       "47633.0          1\n",
       "47645.0          1\n",
       "2978.0           1\n",
       "6432.0           1\n",
       "15153.0          1\n",
       "1489.5           1\n",
       "47666.0          1\n",
       "5959.0           1\n",
       "11919.0          1\n",
       "20950.0          1\n",
       "28760.0          1\n",
       "2981.0           1\n",
       "728.0            1\n",
       "9064.0           1\n",
       "18350.0          1\n",
       "15780.0          1\n",
       "Name: goal, Length: 8353, dtype: int64"
      ]
     },
     "execution_count": 16,
     "metadata": {},
     "output_type": "execute_result"
    }
   ],
   "source": [
    "#メインカテゴリに具体的にどのようなものが含まれるか確認する\n",
    "df_csv[\"goal\"].value_counts()"
   ]
  },
  {
   "cell_type": "markdown",
   "metadata": {},
   "source": [
    "ここで、\"goal\"の情報を出しバラつきを確認する"
   ]
  },
  {
   "cell_type": "code",
   "execution_count": 17,
   "metadata": {},
   "outputs": [
    {
     "data": {
      "text/plain": [
       "count    3.786570e+05\n",
       "mean     4.908068e+04\n",
       "std      1.183397e+06\n",
       "min      1.000000e-02\n",
       "25%      2.000000e+03\n",
       "50%      5.200000e+03\n",
       "75%      1.600000e+04\n",
       "max      1.000000e+08\n",
       "Name: goal, dtype: float64"
      ]
     },
     "execution_count": 17,
     "metadata": {},
     "output_type": "execute_result"
    }
   ],
   "source": [
    "df_csv[\"goal\"].describe()"
   ]
  },
  {
   "cell_type": "markdown",
   "metadata": {},
   "source": [
    "分散が大きい事から、前処理の段階で標準化を行う"
   ]
  },
  {
   "cell_type": "markdown",
   "metadata": {},
   "source": [
    "----\n",
    "### 3.前処理\n",
    "データの削除と離散数値の変換"
   ]
  },
  {
   "cell_type": "code",
   "execution_count": 18,
   "metadata": {
    "scrolled": true
   },
   "outputs": [
    {
     "data": {
      "text/plain": [
       "failed        197716\n",
       "successful    133956\n",
       "canceled       38779\n",
       "undefined       3562\n",
       "live            2799\n",
       "suspended       1845\n",
       "Name: state, dtype: int64"
      ]
     },
     "execution_count": 18,
     "metadata": {},
     "output_type": "execute_result"
    }
   ],
   "source": [
    "#成功、失敗の他に結果として何があるか再度確認する\n",
    "df_csv[\"state\"].value_counts()"
   ]
  },
  {
   "cell_type": "code",
   "execution_count": 19,
   "metadata": {},
   "outputs": [],
   "source": [
    "#今回は成功と失敗の数が9割を占めているので他は削除する\n",
    "df_csv_success = df_csv[df_csv[\"state\"]==\"successful\"]\n",
    "df_csv_failed = df_csv[df_csv[\"state\"]==\"failed\"]\n",
    "df_csv = pd.concat([df_csv_success, df_csv_failed])\n",
    "\n",
    "#データを扱いやすくするため成功を１失敗を０に置き換える\n",
    "df_csv[\"state\"] = df_csv[\"state\"].replace(\"failed\",0)\n",
    "df_csv[\"state\"] = df_csv[\"state\"].replace(\"successful\",1)"
   ]
  },
  {
   "cell_type": "code",
   "execution_count": 20,
   "metadata": {},
   "outputs": [],
   "source": [
    "#分類器にかける前に文字データを離散の数値に変換しておく\n",
    "\n",
    "le = LabelEncoder()\n",
    "\n",
    "\n",
    "le.fit( df_csv[\"name\"])\n",
    "df_csv[\"name\"] = le.transform(df_csv[\"name\"])\n",
    "\n",
    "le.fit(df_csv[\"category\"])\n",
    "df_csv[\"category\"] = le.transform(df_csv[\"category\"])\n",
    "\n",
    "le.fit(df_csv[\"main_category\"])\n",
    "df_csv[\"main_category\"] = le.transform(df_csv[\"main_category\"])\n",
    "\n",
    "le.fit(df_csv[\"currency\"])\n",
    "df_csv[\"currency\"] = le.transform(df_csv[\"currency\"])\n",
    "\n",
    "le.fit(df_csv[\"country\"])\n",
    "df_csv[\"country\"] = le.transform(df_csv[\"country\"])"
   ]
  },
  {
   "cell_type": "code",
   "execution_count": 21,
   "metadata": {},
   "outputs": [
    {
     "data": {
      "text/html": [
       "<div>\n",
       "<style scoped>\n",
       "    .dataframe tbody tr th:only-of-type {\n",
       "        vertical-align: middle;\n",
       "    }\n",
       "\n",
       "    .dataframe tbody tr th {\n",
       "        vertical-align: top;\n",
       "    }\n",
       "\n",
       "    .dataframe thead th {\n",
       "        text-align: right;\n",
       "    }\n",
       "</style>\n",
       "<table border=\"1\" class=\"dataframe\">\n",
       "  <thead>\n",
       "    <tr style=\"text-align: right;\">\n",
       "      <th></th>\n",
       "      <th>name</th>\n",
       "      <th>category</th>\n",
       "      <th>main_category</th>\n",
       "      <th>currency</th>\n",
       "      <th>deadline</th>\n",
       "      <th>goal</th>\n",
       "      <th>launched</th>\n",
       "      <th>state</th>\n",
       "      <th>country</th>\n",
       "      <th>usd_goal_real</th>\n",
       "      <th>day</th>\n",
       "    </tr>\n",
       "  </thead>\n",
       "  <tbody>\n",
       "    <tr>\n",
       "      <th>5</th>\n",
       "      <td>177276</td>\n",
       "      <td>123</td>\n",
       "      <td>7</td>\n",
       "      <td>13</td>\n",
       "      <td>2016-04-01</td>\n",
       "      <td>50000.0</td>\n",
       "      <td>2016-02-26 13:38:27</td>\n",
       "      <td>1</td>\n",
       "      <td>22</td>\n",
       "      <td>50000.00</td>\n",
       "      <td>34</td>\n",
       "    </tr>\n",
       "    <tr>\n",
       "      <th>6</th>\n",
       "      <td>251826</td>\n",
       "      <td>58</td>\n",
       "      <td>7</td>\n",
       "      <td>13</td>\n",
       "      <td>2014-12-21</td>\n",
       "      <td>1000.0</td>\n",
       "      <td>2014-12-01 18:30:44</td>\n",
       "      <td>1</td>\n",
       "      <td>22</td>\n",
       "      <td>1000.00</td>\n",
       "      <td>19</td>\n",
       "    </tr>\n",
       "    <tr>\n",
       "      <th>11</th>\n",
       "      <td>160220</td>\n",
       "      <td>72</td>\n",
       "      <td>10</td>\n",
       "      <td>13</td>\n",
       "      <td>2013-04-08</td>\n",
       "      <td>12500.0</td>\n",
       "      <td>2013-03-09 06:42:58</td>\n",
       "      <td>1</td>\n",
       "      <td>22</td>\n",
       "      <td>12500.00</td>\n",
       "      <td>29</td>\n",
       "    </tr>\n",
       "    <tr>\n",
       "      <th>14</th>\n",
       "      <td>296505</td>\n",
       "      <td>136</td>\n",
       "      <td>8</td>\n",
       "      <td>5</td>\n",
       "      <td>2017-05-03</td>\n",
       "      <td>5000.0</td>\n",
       "      <td>2017-04-05 19:44:18</td>\n",
       "      <td>1</td>\n",
       "      <td>9</td>\n",
       "      <td>6469.73</td>\n",
       "      <td>27</td>\n",
       "    </tr>\n",
       "    <tr>\n",
       "      <th>18</th>\n",
       "      <td>174638</td>\n",
       "      <td>90</td>\n",
       "      <td>10</td>\n",
       "      <td>13</td>\n",
       "      <td>2012-08-17</td>\n",
       "      <td>250.0</td>\n",
       "      <td>2012-08-02 14:11:32</td>\n",
       "      <td>1</td>\n",
       "      <td>22</td>\n",
       "      <td>250.00</td>\n",
       "      <td>14</td>\n",
       "    </tr>\n",
       "  </tbody>\n",
       "</table>\n",
       "</div>"
      ],
      "text/plain": [
       "      name  category  main_category  currency   deadline     goal  \\\n",
       "5   177276       123              7        13 2016-04-01  50000.0   \n",
       "6   251826        58              7        13 2014-12-21   1000.0   \n",
       "11  160220        72             10        13 2013-04-08  12500.0   \n",
       "14  296505       136              8         5 2017-05-03   5000.0   \n",
       "18  174638        90             10        13 2012-08-17    250.0   \n",
       "\n",
       "              launched  state  country  usd_goal_real  day  \n",
       "5  2016-02-26 13:38:27      1       22       50000.00   34  \n",
       "6  2014-12-01 18:30:44      1       22        1000.00   19  \n",
       "11 2013-03-09 06:42:58      1       22       12500.00   29  \n",
       "14 2017-04-05 19:44:18      1        9        6469.73   27  \n",
       "18 2012-08-02 14:11:32      1       22         250.00   14  "
      ]
     },
     "execution_count": 21,
     "metadata": {},
     "output_type": "execute_result"
    }
   ],
   "source": [
    "#全て離散の数値に変換されたことを確認する\n",
    "df_csv.head()"
   ]
  },
  {
   "cell_type": "code",
   "execution_count": 22,
   "metadata": {},
   "outputs": [
    {
     "data": {
      "text/html": [
       "<div>\n",
       "<style scoped>\n",
       "    .dataframe tbody tr th:only-of-type {\n",
       "        vertical-align: middle;\n",
       "    }\n",
       "\n",
       "    .dataframe tbody tr th {\n",
       "        vertical-align: top;\n",
       "    }\n",
       "\n",
       "    .dataframe thead th {\n",
       "        text-align: right;\n",
       "    }\n",
       "</style>\n",
       "<table border=\"1\" class=\"dataframe\">\n",
       "  <thead>\n",
       "    <tr style=\"text-align: right;\">\n",
       "      <th></th>\n",
       "      <th>name</th>\n",
       "      <th>category</th>\n",
       "      <th>main_category</th>\n",
       "      <th>currency</th>\n",
       "      <th>goal</th>\n",
       "      <th>state</th>\n",
       "      <th>country</th>\n",
       "      <th>usd_goal_real</th>\n",
       "      <th>day</th>\n",
       "    </tr>\n",
       "  </thead>\n",
       "  <tbody>\n",
       "    <tr>\n",
       "      <th>5</th>\n",
       "      <td>177276</td>\n",
       "      <td>123</td>\n",
       "      <td>7</td>\n",
       "      <td>13</td>\n",
       "      <td>50000.0</td>\n",
       "      <td>1</td>\n",
       "      <td>22</td>\n",
       "      <td>50000.00</td>\n",
       "      <td>34</td>\n",
       "    </tr>\n",
       "    <tr>\n",
       "      <th>6</th>\n",
       "      <td>251826</td>\n",
       "      <td>58</td>\n",
       "      <td>7</td>\n",
       "      <td>13</td>\n",
       "      <td>1000.0</td>\n",
       "      <td>1</td>\n",
       "      <td>22</td>\n",
       "      <td>1000.00</td>\n",
       "      <td>19</td>\n",
       "    </tr>\n",
       "    <tr>\n",
       "      <th>11</th>\n",
       "      <td>160220</td>\n",
       "      <td>72</td>\n",
       "      <td>10</td>\n",
       "      <td>13</td>\n",
       "      <td>12500.0</td>\n",
       "      <td>1</td>\n",
       "      <td>22</td>\n",
       "      <td>12500.00</td>\n",
       "      <td>29</td>\n",
       "    </tr>\n",
       "    <tr>\n",
       "      <th>14</th>\n",
       "      <td>296505</td>\n",
       "      <td>136</td>\n",
       "      <td>8</td>\n",
       "      <td>5</td>\n",
       "      <td>5000.0</td>\n",
       "      <td>1</td>\n",
       "      <td>9</td>\n",
       "      <td>6469.73</td>\n",
       "      <td>27</td>\n",
       "    </tr>\n",
       "    <tr>\n",
       "      <th>18</th>\n",
       "      <td>174638</td>\n",
       "      <td>90</td>\n",
       "      <td>10</td>\n",
       "      <td>13</td>\n",
       "      <td>250.0</td>\n",
       "      <td>1</td>\n",
       "      <td>22</td>\n",
       "      <td>250.00</td>\n",
       "      <td>14</td>\n",
       "    </tr>\n",
       "  </tbody>\n",
       "</table>\n",
       "</div>"
      ],
      "text/plain": [
       "      name  category  main_category  currency     goal  state  country  \\\n",
       "5   177276       123              7        13  50000.0      1       22   \n",
       "6   251826        58              7        13   1000.0      1       22   \n",
       "11  160220        72             10        13  12500.0      1       22   \n",
       "14  296505       136              8         5   5000.0      1        9   \n",
       "18  174638        90             10        13    250.0      1       22   \n",
       "\n",
       "    usd_goal_real  day  \n",
       "5        50000.00   34  \n",
       "6         1000.00   19  \n",
       "11       12500.00   29  \n",
       "14        6469.73   27  \n",
       "18         250.00   14  "
      ]
     },
     "execution_count": 22,
     "metadata": {},
     "output_type": "execute_result"
    }
   ],
   "source": [
    "#\"deadline\",\"launched\"は不要なので削除する\n",
    "df_csv = df_csv.drop(columns=[\"deadline\",\"launched\"])\n",
    "df_csv.head()"
   ]
  },
  {
   "cell_type": "code",
   "execution_count": 23,
   "metadata": {},
   "outputs": [
    {
     "data": {
      "text/html": [
       "<div>\n",
       "<style scoped>\n",
       "    .dataframe tbody tr th:only-of-type {\n",
       "        vertical-align: middle;\n",
       "    }\n",
       "\n",
       "    .dataframe tbody tr th {\n",
       "        vertical-align: top;\n",
       "    }\n",
       "\n",
       "    .dataframe thead th {\n",
       "        text-align: right;\n",
       "    }\n",
       "</style>\n",
       "<table border=\"1\" class=\"dataframe\">\n",
       "  <thead>\n",
       "    <tr style=\"text-align: right;\">\n",
       "      <th></th>\n",
       "      <th>name</th>\n",
       "      <th>category</th>\n",
       "      <th>main_category</th>\n",
       "      <th>currency</th>\n",
       "      <th>goal</th>\n",
       "      <th>state</th>\n",
       "      <th>country</th>\n",
       "      <th>usd_goal_real</th>\n",
       "      <th>day</th>\n",
       "    </tr>\n",
       "  </thead>\n",
       "  <tbody>\n",
       "    <tr>\n",
       "      <th>count</th>\n",
       "      <td>331672.000000</td>\n",
       "      <td>331672.000000</td>\n",
       "      <td>331672.000000</td>\n",
       "      <td>331672.000000</td>\n",
       "      <td>3.316720e+05</td>\n",
       "      <td>331672.000000</td>\n",
       "      <td>331672.000000</td>\n",
       "      <td>3.316720e+05</td>\n",
       "      <td>331672.000000</td>\n",
       "    </tr>\n",
       "    <tr>\n",
       "      <th>mean</th>\n",
       "      <td>164858.566822</td>\n",
       "      <td>80.292268</td>\n",
       "      <td>7.483435</td>\n",
       "      <td>11.081234</td>\n",
       "      <td>4.425126e+04</td>\n",
       "      <td>0.403881</td>\n",
       "      <td>18.994838</td>\n",
       "      <td>4.150966e+04</td>\n",
       "      <td>32.954889</td>\n",
       "    </tr>\n",
       "    <tr>\n",
       "      <th>std</th>\n",
       "      <td>95115.382234</td>\n",
       "      <td>45.069070</td>\n",
       "      <td>3.931462</td>\n",
       "      <td>3.878572</td>\n",
       "      <td>1.117922e+06</td>\n",
       "      <td>0.490675</td>\n",
       "      <td>6.193820</td>\n",
       "      <td>1.108935e+06</td>\n",
       "      <td>12.713279</td>\n",
       "    </tr>\n",
       "    <tr>\n",
       "      <th>min</th>\n",
       "      <td>0.000000</td>\n",
       "      <td>0.000000</td>\n",
       "      <td>0.000000</td>\n",
       "      <td>0.000000</td>\n",
       "      <td>1.000000e-02</td>\n",
       "      <td>0.000000</td>\n",
       "      <td>0.000000</td>\n",
       "      <td>1.000000e-02</td>\n",
       "      <td>0.000000</td>\n",
       "    </tr>\n",
       "    <tr>\n",
       "      <th>25%</th>\n",
       "      <td>82481.750000</td>\n",
       "      <td>39.000000</td>\n",
       "      <td>5.000000</td>\n",
       "      <td>13.000000</td>\n",
       "      <td>2.000000e+03</td>\n",
       "      <td>0.000000</td>\n",
       "      <td>22.000000</td>\n",
       "      <td>2.000000e+03</td>\n",
       "      <td>29.000000</td>\n",
       "    </tr>\n",
       "    <tr>\n",
       "      <th>50%</th>\n",
       "      <td>164897.500000</td>\n",
       "      <td>85.000000</td>\n",
       "      <td>7.000000</td>\n",
       "      <td>13.000000</td>\n",
       "      <td>5.000000e+03</td>\n",
       "      <td>0.000000</td>\n",
       "      <td>22.000000</td>\n",
       "      <td>5.000000e+03</td>\n",
       "      <td>29.000000</td>\n",
       "    </tr>\n",
       "    <tr>\n",
       "      <th>75%</th>\n",
       "      <td>247272.250000</td>\n",
       "      <td>119.000000</td>\n",
       "      <td>10.000000</td>\n",
       "      <td>13.000000</td>\n",
       "      <td>1.500000e+04</td>\n",
       "      <td>1.000000</td>\n",
       "      <td>22.000000</td>\n",
       "      <td>1.500000e+04</td>\n",
       "      <td>35.000000</td>\n",
       "    </tr>\n",
       "    <tr>\n",
       "      <th>max</th>\n",
       "      <td>329593.000000</td>\n",
       "      <td>158.000000</td>\n",
       "      <td>14.000000</td>\n",
       "      <td>13.000000</td>\n",
       "      <td>1.000000e+08</td>\n",
       "      <td>1.000000</td>\n",
       "      <td>22.000000</td>\n",
       "      <td>1.663614e+08</td>\n",
       "      <td>91.000000</td>\n",
       "    </tr>\n",
       "  </tbody>\n",
       "</table>\n",
       "</div>"
      ],
      "text/plain": [
       "                name       category  main_category       currency  \\\n",
       "count  331672.000000  331672.000000  331672.000000  331672.000000   \n",
       "mean   164858.566822      80.292268       7.483435      11.081234   \n",
       "std     95115.382234      45.069070       3.931462       3.878572   \n",
       "min         0.000000       0.000000       0.000000       0.000000   \n",
       "25%     82481.750000      39.000000       5.000000      13.000000   \n",
       "50%    164897.500000      85.000000       7.000000      13.000000   \n",
       "75%    247272.250000     119.000000      10.000000      13.000000   \n",
       "max    329593.000000     158.000000      14.000000      13.000000   \n",
       "\n",
       "               goal          state        country  usd_goal_real  \\\n",
       "count  3.316720e+05  331672.000000  331672.000000   3.316720e+05   \n",
       "mean   4.425126e+04       0.403881      18.994838   4.150966e+04   \n",
       "std    1.117922e+06       0.490675       6.193820   1.108935e+06   \n",
       "min    1.000000e-02       0.000000       0.000000   1.000000e-02   \n",
       "25%    2.000000e+03       0.000000      22.000000   2.000000e+03   \n",
       "50%    5.000000e+03       0.000000      22.000000   5.000000e+03   \n",
       "75%    1.500000e+04       1.000000      22.000000   1.500000e+04   \n",
       "max    1.000000e+08       1.000000      22.000000   1.663614e+08   \n",
       "\n",
       "                 day  \n",
       "count  331672.000000  \n",
       "mean       32.954889  \n",
       "std        12.713279  \n",
       "min         0.000000  \n",
       "25%        29.000000  \n",
       "50%        29.000000  \n",
       "75%        35.000000  \n",
       "max        91.000000  "
      ]
     },
     "execution_count": 23,
     "metadata": {},
     "output_type": "execute_result"
    }
   ],
   "source": [
    "df_csv.describe()"
   ]
  },
  {
   "cell_type": "markdown",
   "metadata": {},
   "source": [
    "現段階では、分散が大きい項目について標準化するとテストデータに関しても影響が出てしまうので学習の前段階で行う"
   ]
  },
  {
   "cell_type": "code",
   "execution_count": 24,
   "metadata": {},
   "outputs": [
    {
     "data": {
      "image/png": "[encoded data removed]",
      "text/plain": [
       "<Figure size 432x288 with 2 Axes>"
      ]
     },
     "metadata": {
      "needs_background": "light"
     },
     "output_type": "display_data"
    }
   ],
   "source": [
    "#相関係数を見る\n",
    "sns.heatmap(df_csv.corr(),cmap=\"summer\",annot=True)\n",
    "plt.show()"
   ]
  },
  {
   "cell_type": "markdown",
   "metadata": {},
   "source": [
    "\"goal\"と\"usd_goal_real\"は強い正の相関が見られるため今回は\"goal\"のみを使用する\n",
    "\"country\"と\"currency\"にも強い正の相関が見られるので\"country\"を使用する"
   ]
  },
  {
   "cell_type": "code",
   "execution_count": 25,
   "metadata": {
    "scrolled": true
   },
   "outputs": [
    {
     "data": {
      "text/html": [
       "<div>\n",
       "<style scoped>\n",
       "    .dataframe tbody tr th:only-of-type {\n",
       "        vertical-align: middle;\n",
       "    }\n",
       "\n",
       "    .dataframe tbody tr th {\n",
       "        vertical-align: top;\n",
       "    }\n",
       "\n",
       "    .dataframe thead th {\n",
       "        text-align: right;\n",
       "    }\n",
       "</style>\n",
       "<table border=\"1\" class=\"dataframe\">\n",
       "  <thead>\n",
       "    <tr style=\"text-align: right;\">\n",
       "      <th></th>\n",
       "      <th>name</th>\n",
       "      <th>category</th>\n",
       "      <th>main_category</th>\n",
       "      <th>goal</th>\n",
       "      <th>state</th>\n",
       "      <th>country</th>\n",
       "      <th>day</th>\n",
       "    </tr>\n",
       "  </thead>\n",
       "  <tbody>\n",
       "    <tr>\n",
       "      <th>5</th>\n",
       "      <td>177276</td>\n",
       "      <td>123</td>\n",
       "      <td>7</td>\n",
       "      <td>50000.0</td>\n",
       "      <td>1</td>\n",
       "      <td>22</td>\n",
       "      <td>34</td>\n",
       "    </tr>\n",
       "    <tr>\n",
       "      <th>6</th>\n",
       "      <td>251826</td>\n",
       "      <td>58</td>\n",
       "      <td>7</td>\n",
       "      <td>1000.0</td>\n",
       "      <td>1</td>\n",
       "      <td>22</td>\n",
       "      <td>19</td>\n",
       "    </tr>\n",
       "    <tr>\n",
       "      <th>11</th>\n",
       "      <td>160220</td>\n",
       "      <td>72</td>\n",
       "      <td>10</td>\n",
       "      <td>12500.0</td>\n",
       "      <td>1</td>\n",
       "      <td>22</td>\n",
       "      <td>29</td>\n",
       "    </tr>\n",
       "    <tr>\n",
       "      <th>14</th>\n",
       "      <td>296505</td>\n",
       "      <td>136</td>\n",
       "      <td>8</td>\n",
       "      <td>5000.0</td>\n",
       "      <td>1</td>\n",
       "      <td>9</td>\n",
       "      <td>27</td>\n",
       "    </tr>\n",
       "    <tr>\n",
       "      <th>18</th>\n",
       "      <td>174638</td>\n",
       "      <td>90</td>\n",
       "      <td>10</td>\n",
       "      <td>250.0</td>\n",
       "      <td>1</td>\n",
       "      <td>22</td>\n",
       "      <td>14</td>\n",
       "    </tr>\n",
       "  </tbody>\n",
       "</table>\n",
       "</div>"
      ],
      "text/plain": [
       "      name  category  main_category     goal  state  country  day\n",
       "5   177276       123              7  50000.0      1       22   34\n",
       "6   251826        58              7   1000.0      1       22   19\n",
       "11  160220        72             10  12500.0      1       22   29\n",
       "14  296505       136              8   5000.0      1        9   27\n",
       "18  174638        90             10    250.0      1       22   14"
      ]
     },
     "execution_count": 25,
     "metadata": {},
     "output_type": "execute_result"
    }
   ],
   "source": [
    "df_csv1 = df_csv.drop(columns=[\"currency\",\"usd_goal_real\"])\n",
    "df_csv1.head()"
   ]
  },
  {
   "cell_type": "markdown",
   "metadata": {},
   "source": [
    "今回はこちらのデータを説明変数として予測していく"
   ]
  },
  {
   "cell_type": "markdown",
   "metadata": {},
   "source": [
    "----\n",
    "### 4.データを標準化して分類器にかける"
   ]
  },
  {
   "cell_type": "code",
   "execution_count": 26,
   "metadata": {},
   "outputs": [
    {
     "data": {
      "text/plain": [
       "SGDClassifier(alpha=0.0001, average=False, class_weight=None,\n",
       "       early_stopping=False, epsilon=0.1, eta0=0.0, fit_intercept=True,\n",
       "       l1_ratio=0.15, learning_rate='optimal', loss='log', max_iter=10000,\n",
       "       n_iter=None, n_iter_no_change=5, n_jobs=None, penalty='none',\n",
       "       power_t=0.5, random_state=1234, shuffle=True, tol=0.001,\n",
       "       validation_fraction=0.1, verbose=0, warm_start=False)"
      ]
     },
     "execution_count": 26,
     "metadata": {},
     "output_type": "execute_result"
    }
   ],
   "source": [
    "#目的変数を\"state\", 説明変数を\"category\", \"main_category\", \"name\" \"goal\", \"country\", \"day\"\n",
    "y = df_csv1[\"state\"].values\n",
    "x = df_csv1.drop(columns=[\"state\"]).values\n",
    "\n",
    "#学習を上手く行うために平均０, 分散１になるように正規化する（標準化）\n",
    "std_scaler = StandardScaler()\n",
    "\n",
    "# fit_transform関数で標準化した特徴量X_scaledを得る\n",
    "# 以降はX_scaledをモデルの学習等に使う\n",
    "x_scaled = std_scaler.fit_transform(x)\n",
    "clf = SGDClassifier(\n",
    "    loss=\"log\", penalty=\"none\", max_iter=10000, fit_intercept=True, random_state=1234, tol=1e-3\n",
    ")\n",
    "clf.fit(x_scaled,y)\n"
   ]
  },
  {
   "cell_type": "code",
   "execution_count": 27,
   "metadata": {},
   "outputs": [
    {
     "name": "stdout",
     "output_type": "stream",
     "text": [
      "w0 = -0.809, w1 = -0.031, w2 = 0.146, w3 = -0.030, w4 = -16.705, w5 = 0.098, w6 = -0.206\n"
     ]
    }
   ],
   "source": [
    "# 重みを取得して表示\n",
    "w0 = clf.intercept_[0]\n",
    "w1 = clf.coef_[0,0]\n",
    "w2 = clf.coef_[0,1]\n",
    "w3 = clf.coef_[0,2]\n",
    "w4 = clf.coef_[0,3]\n",
    "w5 = clf.coef_[0,4]\n",
    "w6 = clf.coef_[0,5]\n",
    "\n",
    "\n",
    "print('w0 = {:.3f}, w1 = {:.3f}, w2 = {:.3f}, w3 = {:.3f}, w4 = {:.3f}, w5 = {:.3f}, w6 = {:.3f}'.format(w0, w1, w2, w3, w4, w5, w6))"
   ]
  },
  {
   "cell_type": "code",
   "execution_count": 28,
   "metadata": {},
   "outputs": [
    {
     "name": "stdout",
     "output_type": "stream",
     "text": [
      "対数尤度 = -215257.959\n"
     ]
    }
   ],
   "source": [
    "# ラベルを予測\n",
    "y_est = clf.predict(x_scaled)\n",
    "# 確率値を得る\n",
    "y_est_proba = clf.predict_proba(x_scaled)\n",
    "#対数尤度を表示\n",
    "print(\"対数尤度 = {:.3f}\".format(-log_loss(y, y_est_proba, normalize=False)))"
   ]
  },
  {
   "cell_type": "code",
   "execution_count": 29,
   "metadata": {},
   "outputs": [
    {
     "name": "stdout",
     "output_type": "stream",
     "text": [
      "Accuracy = 61.289%\n",
      "Recall = 24.393%\n",
      "Precision = 54.652%\n"
     ]
    }
   ],
   "source": [
    "#混同行列を作成 \n",
    "tn, fp, fn, tp = confusion_matrix(y, y_est).ravel() \n",
    "\n",
    "print('Accuracy = {:.3f}%'.format(100 * (tn+tp)/(tn+fp+fn+tp))) \n",
    "print('Recall = {:.3f}%'.format(100 * (tp)/(fn+tp))) \n",
    "print('Precision = {:.3f}%'.format(100 * (tp)/(fp+tp)))"
   ]
  },
  {
   "cell_type": "code",
   "execution_count": 30,
   "metadata": {},
   "outputs": [
    {
     "data": {
      "text/html": [
       "<div>\n",
       "<style scoped>\n",
       "    .dataframe tbody tr th:only-of-type {\n",
       "        vertical-align: middle;\n",
       "    }\n",
       "\n",
       "    .dataframe tbody tr th {\n",
       "        vertical-align: top;\n",
       "    }\n",
       "\n",
       "    .dataframe thead th {\n",
       "        text-align: right;\n",
       "    }\n",
       "</style>\n",
       "<table border=\"1\" class=\"dataframe\">\n",
       "  <thead>\n",
       "    <tr style=\"text-align: right;\">\n",
       "      <th></th>\n",
       "      <th>予測 = クラウドファンディング成功</th>\n",
       "      <th>予測 = クラウドファンディング失敗</th>\n",
       "    </tr>\n",
       "  </thead>\n",
       "  <tbody>\n",
       "    <tr>\n",
       "      <th>正解 = クラウドファンディング成功</th>\n",
       "      <td>170603</td>\n",
       "      <td>27113</td>\n",
       "    </tr>\n",
       "    <tr>\n",
       "      <th>正解 = クラウドファンディング失敗</th>\n",
       "      <td>101280</td>\n",
       "      <td>32676</td>\n",
       "    </tr>\n",
       "  </tbody>\n",
       "</table>\n",
       "</div>"
      ],
      "text/plain": [
       "                    予測 = クラウドファンディング成功  予測 = クラウドファンディング失敗\n",
       "正解 = クラウドファンディング成功              170603               27113\n",
       "正解 = クラウドファンディング失敗              101280               32676"
      ]
     },
     "execution_count": 30,
     "metadata": {},
     "output_type": "execute_result"
    }
   ],
   "source": [
    "# 予測値と正解のクロス集計\n",
    "conf_mat = pd.DataFrame(confusion_matrix(y, y_est),\n",
    "                       index=[\"正解 = クラウドファンディング成功\",\"正解 = クラウドファンディング失敗\"],\n",
    "                       columns=[\"予測 = クラウドファンディング成功\", \"予測 = クラウドファンディング失敗\"])\n",
    "conf_mat"
   ]
  },
  {
   "cell_type": "markdown",
   "metadata": {},
   "source": [
    "まだまだ改善の余地はありそうだ。"
   ]
  },
  {
   "cell_type": "markdown",
   "metadata": {},
   "source": [
    "----\n",
    "### 5.ホールドアウト法"
   ]
  },
  {
   "cell_type": "markdown",
   "metadata": {},
   "source": [
    "ここでは学習用のデータ、テスト用のデータに分けて学習をし、汎化誤差を出す"
   ]
  },
  {
   "cell_type": "code",
   "execution_count": 31,
   "metadata": {},
   "outputs": [],
   "source": [
    "from sklearn.model_selection import train_test_split\n",
    "test_size = 0.3\n",
    "#学習用データ、テスト用データに分割する\n",
    "X_train, X_test, y_train, y_test = train_test_split(x, y, test_size=test_size)"
   ]
  },
  {
   "cell_type": "code",
   "execution_count": 32,
   "metadata": {},
   "outputs": [],
   "source": [
    "#標準化をする\n",
    "X_tr_sc = std_scaler.fit_transform(X_train)\n",
    "X_te_sc = std_scaler.transform(X_test)"
   ]
  },
  {
   "cell_type": "code",
   "execution_count": 33,
   "metadata": {},
   "outputs": [
    {
     "name": "stdout",
     "output_type": "stream",
     "text": [
      "Accuracy = 60.804%\n",
      "Recall = 12.940%\n",
      "Precision = 56.794%\n"
     ]
    }
   ],
   "source": [
    "#分類器にかける\n",
    "clf = SGDClassifier(\n",
    "    loss=\"log\", penalty=\"none\", max_iter=10000, fit_intercept=True, random_state=1234, tol=1e-3\n",
    ")\n",
    "clf.fit(X_tr_sc, y_train)\n",
    "y_pred = clf.predict(X_te_sc)\n",
    "\n",
    "#混合行列を作成\n",
    "tn, fp, fn, tp = confusion_matrix(y_test, y_pred).ravel() \n",
    "print('Accuracy = {:.3f}%'.format(100 * (tn+tp)/(tn+fp+fn+tp))) \n",
    "print('Recall = {:.3f}%'.format(100 * (tp)/(fn+tp))) \n",
    "print('Precision = {:.3f}%'.format(100 * (tp)/(fp+tp)))\n",
    "\n"
   ]
  },
  {
   "cell_type": "markdown",
   "metadata": {},
   "source": [
    "精度は向上したが、学習用データ、テスト用データに偏りがある可能性があるため、分割してそれぞれ対して学習、予測を行う"
   ]
  },
  {
   "cell_type": "code",
   "execution_count": 34,
   "metadata": {},
   "outputs": [
    {
     "data": {
      "text/html": [
       "<div>\n",
       "<style scoped>\n",
       "    .dataframe tbody tr th:only-of-type {\n",
       "        vertical-align: middle;\n",
       "    }\n",
       "\n",
       "    .dataframe tbody tr th {\n",
       "        vertical-align: top;\n",
       "    }\n",
       "\n",
       "    .dataframe thead th {\n",
       "        text-align: right;\n",
       "    }\n",
       "</style>\n",
       "<table border=\"1\" class=\"dataframe\">\n",
       "  <thead>\n",
       "    <tr style=\"text-align: right;\">\n",
       "      <th></th>\n",
       "      <th>予測 = クラウドファンディング成功</th>\n",
       "      <th>予測 = クラウドファンディング失敗</th>\n",
       "    </tr>\n",
       "  </thead>\n",
       "  <tbody>\n",
       "    <tr>\n",
       "      <th>正解 = クラウドファンディング成功</th>\n",
       "      <td>55293</td>\n",
       "      <td>3962</td>\n",
       "    </tr>\n",
       "    <tr>\n",
       "      <th>正解 = クラウドファンディング失敗</th>\n",
       "      <td>35039</td>\n",
       "      <td>5208</td>\n",
       "    </tr>\n",
       "  </tbody>\n",
       "</table>\n",
       "</div>"
      ],
      "text/plain": [
       "                    予測 = クラウドファンディング成功  予測 = クラウドファンディング失敗\n",
       "正解 = クラウドファンディング成功               55293                3962\n",
       "正解 = クラウドファンディング失敗               35039                5208"
      ]
     },
     "metadata": {},
     "output_type": "display_data"
    },
    {
     "data": {
      "image/png": "[encoded data removed]",
      "text/plain": [
       "<Figure size 432x288 with 2 Axes>"
      ]
     },
     "metadata": {
      "needs_background": "light"
     },
     "output_type": "display_data"
    }
   ],
   "source": [
    "# 予測値と正解のクロス集計\n",
    "conf_mat = pd.DataFrame(confusion_matrix(y_test,y_pred),\n",
    "                       index=[\"正解 = クラウドファンディング成功\",\"正解 = クラウドファンディング失敗\"],\n",
    "                       columns=[\"予測 = クラウドファンディング成功\", \"予測 = クラウドファンディング失敗\"])\n",
    "display(conf_mat)\n",
    "sns.heatmap(confusion_matrix(y_test, y_pred),annot=True,fmt='d')\n",
    "plt.show()"
   ]
  },
  {
   "cell_type": "markdown",
   "metadata": {},
   "source": [
    "----\n",
    "### 6.クロスバリデーション"
   ]
  },
  {
   "cell_type": "markdown",
   "metadata": {},
   "source": [
    "ここでは学習用データ、テスト用データの分割によって予測の偏りをなくすため5分割してそれぞれに対して予測を行う"
   ]
  },
  {
   "cell_type": "markdown",
   "metadata": {},
   "source": [
    "学習用データ、テストデータに偏りが低い精度が求められた"
   ]
  },
  {
   "cell_type": "markdown",
   "metadata": {},
   "source": [
    "----\n",
    "### 6.無相関化\n",
    "ここでは前処理の段階で説明変数どうしに強い正の相関が見られた変数を新たに説明変数として加え、無相関をして精度向上を試みる"
   ]
  },
  {
   "cell_type": "code",
   "execution_count": 35,
   "metadata": {},
   "outputs": [
    {
     "data": {
      "text/html": [
       "<div>\n",
       "<style scoped>\n",
       "    .dataframe tbody tr th:only-of-type {\n",
       "        vertical-align: middle;\n",
       "    }\n",
       "\n",
       "    .dataframe tbody tr th {\n",
       "        vertical-align: top;\n",
       "    }\n",
       "\n",
       "    .dataframe thead th {\n",
       "        text-align: right;\n",
       "    }\n",
       "</style>\n",
       "<table border=\"1\" class=\"dataframe\">\n",
       "  <thead>\n",
       "    <tr style=\"text-align: right;\">\n",
       "      <th></th>\n",
       "      <th>name</th>\n",
       "      <th>category</th>\n",
       "      <th>main_category</th>\n",
       "      <th>currency</th>\n",
       "      <th>goal</th>\n",
       "      <th>state</th>\n",
       "      <th>country</th>\n",
       "      <th>usd_goal_real</th>\n",
       "      <th>day</th>\n",
       "    </tr>\n",
       "  </thead>\n",
       "  <tbody>\n",
       "    <tr>\n",
       "      <th>5</th>\n",
       "      <td>177276</td>\n",
       "      <td>123</td>\n",
       "      <td>7</td>\n",
       "      <td>13</td>\n",
       "      <td>50000.0</td>\n",
       "      <td>1</td>\n",
       "      <td>22</td>\n",
       "      <td>50000.00</td>\n",
       "      <td>34</td>\n",
       "    </tr>\n",
       "    <tr>\n",
       "      <th>6</th>\n",
       "      <td>251826</td>\n",
       "      <td>58</td>\n",
       "      <td>7</td>\n",
       "      <td>13</td>\n",
       "      <td>1000.0</td>\n",
       "      <td>1</td>\n",
       "      <td>22</td>\n",
       "      <td>1000.00</td>\n",
       "      <td>19</td>\n",
       "    </tr>\n",
       "    <tr>\n",
       "      <th>11</th>\n",
       "      <td>160220</td>\n",
       "      <td>72</td>\n",
       "      <td>10</td>\n",
       "      <td>13</td>\n",
       "      <td>12500.0</td>\n",
       "      <td>1</td>\n",
       "      <td>22</td>\n",
       "      <td>12500.00</td>\n",
       "      <td>29</td>\n",
       "    </tr>\n",
       "    <tr>\n",
       "      <th>14</th>\n",
       "      <td>296505</td>\n",
       "      <td>136</td>\n",
       "      <td>8</td>\n",
       "      <td>5</td>\n",
       "      <td>5000.0</td>\n",
       "      <td>1</td>\n",
       "      <td>9</td>\n",
       "      <td>6469.73</td>\n",
       "      <td>27</td>\n",
       "    </tr>\n",
       "    <tr>\n",
       "      <th>18</th>\n",
       "      <td>174638</td>\n",
       "      <td>90</td>\n",
       "      <td>10</td>\n",
       "      <td>13</td>\n",
       "      <td>250.0</td>\n",
       "      <td>1</td>\n",
       "      <td>22</td>\n",
       "      <td>250.00</td>\n",
       "      <td>14</td>\n",
       "    </tr>\n",
       "  </tbody>\n",
       "</table>\n",
       "</div>"
      ],
      "text/plain": [
       "      name  category  main_category  currency     goal  state  country  \\\n",
       "5   177276       123              7        13  50000.0      1       22   \n",
       "6   251826        58              7        13   1000.0      1       22   \n",
       "11  160220        72             10        13  12500.0      1       22   \n",
       "14  296505       136              8         5   5000.0      1        9   \n",
       "18  174638        90             10        13    250.0      1       22   \n",
       "\n",
       "    usd_goal_real  day  \n",
       "5        50000.00   34  \n",
       "6         1000.00   19  \n",
       "11       12500.00   29  \n",
       "14        6469.73   27  \n",
       "18         250.00   14  "
      ]
     },
     "metadata": {},
     "output_type": "display_data"
    },
    {
     "data": {
      "image/png": "[encoded data removed]",
      "text/plain": [
       "<Figure size 432x288 with 2 Axes>"
      ]
     },
     "metadata": {
      "needs_background": "light"
     },
     "output_type": "display_data"
    }
   ],
   "source": [
    "display(df_csv.head())\n",
    "sns.heatmap(df_csv.corr(),cmap=\"summer\",annot=True)\n",
    "plt.show()"
   ]
  },
  {
   "cell_type": "code",
   "execution_count": 36,
   "metadata": {},
   "outputs": [
    {
     "data": {
      "image/png": "[encoded data removed]",
      "text/plain": [
       "<Figure size 432x288 with 1 Axes>"
      ]
     },
     "metadata": {
      "needs_background": "light"
     },
     "output_type": "display_data"
    }
   ],
   "source": [
    "#無相関化を行うためにデータを抽出する\n",
    "s = df_csv.loc[:,[\"country\",\"currency\"]]\n",
    "data1 = s.values.tolist()\n",
    "data1 = np.array(data1)\n",
    "plt.grid(which='major',color='black',linestyle=':')\n",
    "plt.grid(which='minor',color='black',linestyle=':')\n",
    "plt.plot(data1[:, 0], data1[:, 1], 'o')\n",
    "plt.show()"
   ]
  },
  {
   "cell_type": "code",
   "execution_count": 37,
   "metadata": {},
   "outputs": [
    {
     "data": {
      "image/png": "[encoded data removed]",
      "text/plain": [
       "<Figure size 432x288 with 1 Axes>"
      ]
     },
     "metadata": {
      "needs_background": "light"
     },
     "output_type": "display_data"
    }
   ],
   "source": [
    "v = df_csv.loc[:,[\"goal\",\"usd_goal_real\"]]\n",
    "data2 = v.values.tolist()\n",
    "data2 = np.array(data2)\n",
    "plt.grid(which='major',color='black',linestyle=':')\n",
    "plt.grid(which='minor',color='black',linestyle=':')\n",
    "plt.plot(data2[:, 0], data2[:, 1], 'o')\n",
    "plt.show()"
   ]
  },
  {
   "cell_type": "code",
   "execution_count": 38,
   "metadata": {},
   "outputs": [
    {
     "name": "stdout",
     "output_type": "stream",
     "text": [
      "Fold 1\n",
      "Accuracy = 61.244%\n",
      "Recall = 17.863%\n",
      "Precision = 55.012%\n",
      "\n",
      "Fold 2\n",
      "Accuracy = 60.380%\n",
      "Recall = 8.068%\n",
      "Precision = 58.072%\n",
      "\n",
      "Fold 3\n",
      "Accuracy = 60.361%\n",
      "Recall = 23.707%\n",
      "Precision = 52.757%\n",
      "\n",
      "Fold 4\n",
      "Accuracy = 61.204%\n",
      "Recall = 24.630%\n",
      "Precision = 54.954%\n",
      "\n",
      "Fold 5\n",
      "Accuracy = 61.759%\n",
      "Recall = 22.042%\n",
      "Precision = 55.896%\n",
      "\n",
      "平均 Accuracy = 60.989%\n",
      "平均 Recall = 19.262%\n",
      "平均 Precision = 55.338%\n"
     ]
    }
   ],
   "source": [
    "# 分割数n_splits, ランダム性の固定を行うrandom_state, データのシャッフルを行うかを指定するshuffleを引数に与える\n",
    "n_split = 5 \n",
    "kf=KFold(n_splits=n_split, random_state=1234, shuffle=True)\n",
    "\n",
    "\n",
    "split_num = 1\n",
    "acc = 0\n",
    "rec = 0\n",
    "pre = 0\n",
    "# テスト役を交代させながら学習と評価を繰り返す\n",
    "for train_idx, test_idx in kf.split(x, y):\n",
    "    X_train, y_train = x[train_idx], y[train_idx] #学習用データ\n",
    "    X_test, y_test = x[test_idx], y[test_idx]  #テスト用データ\n",
    "    \n",
    "    #標準化をする\n",
    "    X_tr_sc = std_scaler.fit_transform(X_train)\n",
    "    X_te_sc = std_scaler.transform(X_test)\n",
    "    \n",
    "    # 学習用データを使って線形回帰モデルを学習\n",
    "    clf.fit(X_tr_sc,y_train)\n",
    "    \n",
    "    #混合行列を作成\n",
    "    y_pred = clf.predict(X_te_sc)\n",
    "    tn, fp, fn, tp = confusion_matrix(y_test, y_pred).ravel() \n",
    "    accuracy = 100 * (tn+tp)/(tn+fp+fn+tp)\n",
    "    recall = 100 * (tp)/(fn+tp)\n",
    "    precision = 100 * (tp)/(fp+tp)\n",
    "    \n",
    "    #クロスバリデーションの結果を算出\n",
    "    print(\"Fold %s\"%split_num)\n",
    "    print('Accuracy = {:.3f}%'.format(accuracy)) \n",
    "    print('Recall = {:.3f}%'.format(recall)) \n",
    "    print('Precision = {:.3f}%'.format(precision))\n",
    "    print()\n",
    "\n",
    "    acc += accuracy\n",
    "    rec += recall\n",
    "    pre += precision\n",
    "    split_num +=1\n",
    "\n",
    "final_acc = acc / n_split\n",
    "final_rec = rec / n_split\n",
    "final_pre = pre / n_split\n",
    "print('平均 Accuracy = {:.3f}%'.format(final_acc))\n",
    "print('平均 Recall = {:.3f}%'.format(final_rec))\n",
    "print('平均 Precision = {:.3f}%'.format(final_pre))\n",
    "    \n",
    "    "
   ]
  },
  {
   "cell_type": "code",
   "execution_count": 39,
   "metadata": {},
   "outputs": [
    {
     "name": "stdout",
     "output_type": "stream",
     "text": [
      "相関係数: 0.000\n"
     ]
    },
    {
     "data": {
      "image/png": "[encoded data removed]",
      "text/plain": [
       "<Figure size 432x288 with 1 Axes>"
      ]
     },
     "metadata": {
      "needs_background": "light"
     },
     "output_type": "display_data"
    }
   ],
   "source": [
    "#  無相関化を行うための一連の処理\n",
    "cov1 = np.cov(data1, rowvar=0) # 分散・共分散を求める\n",
    "_, S = np.linalg.eig(cov1)           # 分散共分散行列の固有ベクトルを用いて\n",
    "data1_decorr = np.dot(S.T, data1.T).T #データを無相関化\n",
    "\n",
    "#無相関化の結果を表示する\n",
    "print('相関係数: {:.3f}'.format(np.corrcoef(data1_decorr[:, 0], data1_decorr[:, 1])[0,1]))\n",
    "plt.grid(which='major',color='black',linestyle=':')\n",
    "plt.grid(which='minor',color='black',linestyle=':')\n",
    "plt.plot(data1_decorr[:, 0], data1_decorr[:, 1], 'o')\n",
    "plt.show()"
   ]
  },
  {
   "cell_type": "code",
   "execution_count": 40,
   "metadata": {},
   "outputs": [
    {
     "name": "stdout",
     "output_type": "stream",
     "text": [
      "相関係数: -0.000\n"
     ]
    },
    {
     "data": {
      "image/png": "[encoded data removed]",
      "text/plain": [
       "<Figure size 432x288 with 1 Axes>"
      ]
     },
     "metadata": {
      "needs_background": "light"
     },
     "output_type": "display_data"
    }
   ],
   "source": [
    "#  無相関化を行うための一連の処理\n",
    "cov2 = np.cov(data2, rowvar=0) # 分散・共分散を求める\n",
    "_, S = np.linalg.eig(cov2)           # 分散共分散行列の固有ベクトルを用いて\n",
    "data2_decorr = np.dot(S.T, data2.T).T #データを無相関化\n",
    "\n",
    "#無相関化の結果を表示する\n",
    "print('相関係数: {:.3f}'.format(np.corrcoef(data2_decorr[:, 0], data2_decorr[:, 1])[0,1]))\n",
    "plt.grid(which='major',color='black',linestyle=':')\n",
    "plt.grid(which='minor',color='black',linestyle=':')\n",
    "plt.plot(data2_decorr[:, 0], data2_decorr[:, 1], 'o')\n",
    "plt.show()"
   ]
  },
  {
   "cell_type": "code",
   "execution_count": 41,
   "metadata": {},
   "outputs": [
    {
     "data": {
      "text/html": [
       "<div>\n",
       "<style scoped>\n",
       "    .dataframe tbody tr th:only-of-type {\n",
       "        vertical-align: middle;\n",
       "    }\n",
       "\n",
       "    .dataframe tbody tr th {\n",
       "        vertical-align: top;\n",
       "    }\n",
       "\n",
       "    .dataframe thead th {\n",
       "        text-align: right;\n",
       "    }\n",
       "</style>\n",
       "<table border=\"1\" class=\"dataframe\">\n",
       "  <thead>\n",
       "    <tr style=\"text-align: right;\">\n",
       "      <th></th>\n",
       "      <th>name</th>\n",
       "      <th>category</th>\n",
       "      <th>main_category</th>\n",
       "      <th>currency</th>\n",
       "      <th>goal</th>\n",
       "      <th>state</th>\n",
       "      <th>country</th>\n",
       "      <th>usd_goal_real</th>\n",
       "      <th>day</th>\n",
       "    </tr>\n",
       "  </thead>\n",
       "  <tbody>\n",
       "    <tr>\n",
       "      <th>5</th>\n",
       "      <td>177276</td>\n",
       "      <td>123</td>\n",
       "      <td>7</td>\n",
       "      <td>-0.586333</td>\n",
       "      <td>70710.043568</td>\n",
       "      <td>1</td>\n",
       "      <td>25.547137</td>\n",
       "      <td>299.563928</td>\n",
       "      <td>34</td>\n",
       "    </tr>\n",
       "    <tr>\n",
       "      <th>6</th>\n",
       "      <td>251826</td>\n",
       "      <td>58</td>\n",
       "      <td>7</td>\n",
       "      <td>-0.586333</td>\n",
       "      <td>1414.200871</td>\n",
       "      <td>1</td>\n",
       "      <td>25.547137</td>\n",
       "      <td>5.991279</td>\n",
       "      <td>19</td>\n",
       "    </tr>\n",
       "    <tr>\n",
       "      <th>11</th>\n",
       "      <td>160220</td>\n",
       "      <td>72</td>\n",
       "      <td>10</td>\n",
       "      <td>-0.586333</td>\n",
       "      <td>17677.510892</td>\n",
       "      <td>1</td>\n",
       "      <td>25.547137</td>\n",
       "      <td>74.890982</td>\n",
       "      <td>29</td>\n",
       "    </tr>\n",
       "    <tr>\n",
       "      <th>14</th>\n",
       "      <td>296505</td>\n",
       "      <td>136</td>\n",
       "      <td>8</td>\n",
       "      <td>-0.510009</td>\n",
       "      <td>8105.848299</td>\n",
       "      <td>1</td>\n",
       "      <td>10.282990</td>\n",
       "      <td>1073.605897</td>\n",
       "      <td>27</td>\n",
       "    </tr>\n",
       "    <tr>\n",
       "      <th>18</th>\n",
       "      <td>174638</td>\n",
       "      <td>90</td>\n",
       "      <td>10</td>\n",
       "      <td>-0.586333</td>\n",
       "      <td>353.550218</td>\n",
       "      <td>1</td>\n",
       "      <td>25.547137</td>\n",
       "      <td>1.497820</td>\n",
       "      <td>14</td>\n",
       "    </tr>\n",
       "  </tbody>\n",
       "</table>\n",
       "</div>"
      ],
      "text/plain": [
       "      name  category  main_category  currency          goal  state    country  \\\n",
       "5   177276       123              7 -0.586333  70710.043568      1  25.547137   \n",
       "6   251826        58              7 -0.586333   1414.200871      1  25.547137   \n",
       "11  160220        72             10 -0.586333  17677.510892      1  25.547137   \n",
       "14  296505       136              8 -0.510009   8105.848299      1  10.282990   \n",
       "18  174638        90             10 -0.586333    353.550218      1  25.547137   \n",
       "\n",
       "    usd_goal_real  day  \n",
       "5      299.563928   34  \n",
       "6        5.991279   19  \n",
       "11      74.890982   29  \n",
       "14    1073.605897   27  \n",
       "18       1.497820   14  "
      ]
     },
     "execution_count": 41,
     "metadata": {},
     "output_type": "execute_result"
    }
   ],
   "source": [
    "#元のデータと置き換える\n",
    "\n",
    "df_csv[[\"country\",\"currency\"]] = data1_decorr \n",
    "df_csv[[\"goal\",\"usd_goal_real\"]] = data2_decorr\n",
    "\n",
    "df_csv.head()"
   ]
  },
  {
   "cell_type": "code",
   "execution_count": 42,
   "metadata": {},
   "outputs": [
    {
     "name": "stdout",
     "output_type": "stream",
     "text": [
      "Fold 1\n",
      "Accuracy = 61.699%\n",
      "Recall = 27.030%\n",
      "Precision = 54.421%\n",
      "\n",
      "Fold 2\n",
      "Accuracy = 60.626%\n",
      "Recall = 10.351%\n",
      "Precision = 57.979%\n",
      "\n",
      "Fold 3\n",
      "Accuracy = 60.453%\n",
      "Recall = 26.790%\n",
      "Precision = 52.657%\n",
      "\n",
      "Fold 4\n",
      "Accuracy = 61.183%\n",
      "Recall = 28.027%\n",
      "Precision = 54.248%\n",
      "\n",
      "Fold 5\n",
      "Accuracy = 61.552%\n",
      "Recall = 27.695%\n",
      "Precision = 54.033%\n",
      "\n",
      "平均 Accuracy = 61.103%\n",
      "平均 Recall = 23.979%\n",
      "平均 Precision = 54.668%\n"
     ]
    }
   ],
   "source": [
    "y = df_csv[\"state\"].values\n",
    "x = df_csv.drop(columns=[\"state\"]).values\n",
    "\n",
    "# 分割数n_splits, ランダム性の固定を行うrandom_state, データのシャッフルを行うかを指定するshuffleを引数に与える\n",
    "n_split = 5 \n",
    "kf=KFold(n_splits=n_split, random_state=1234, shuffle=True)\n",
    "\n",
    "split_num = 1\n",
    "acc = 0\n",
    "rec = 0\n",
    "pre = 0\n",
    "\n",
    "# テスト役を交代させながら学習と評価を繰り返す\n",
    "for train_idx, test_idx in kf.split(x, y):\n",
    "    X_train, y_train = x[train_idx], y[train_idx] #学習用データ\n",
    "    X_test, y_test = x[test_idx], y[test_idx]  #テスト用データ\n",
    "    \n",
    "    #標準化をする\n",
    "    X_tr_sc = std_scaler.fit_transform(X_train)\n",
    "    X_te_sc = std_scaler.transform(X_test)\n",
    "    \n",
    "    # 学習用データを使って線形回帰モデルを学習\n",
    "    clf.fit(X_tr_sc,y_train)\n",
    "    \n",
    "    #クロスバリデーションの結果を算出\n",
    "    y_pred = clf.predict(X_te_sc)\n",
    "    tn, fp, fn, tp = confusion_matrix(y_test, y_pred).ravel() \n",
    "    accuracy = 100 * (tn+tp)/(tn+fp+fn+tp)\n",
    "    recall = 100 * (tp)/(fn+tp)\n",
    "    precision = 100 * (tp)/(fp+tp)\n",
    "    print(\"Fold %s\"%split_num)\n",
    "    print('Accuracy = {:.3f}%'.format(accuracy)) \n",
    "    print('Recall = {:.3f}%'.format(recall)) \n",
    "    print('Precision = {:.3f}%'.format(precision))\n",
    "    print()\n",
    "\n",
    "    acc += accuracy\n",
    "    rec += recall\n",
    "    pre += precision\n",
    "    split_num +=1\n",
    "\n",
    "final_acc = acc / n_split\n",
    "final_rec = rec / n_split\n",
    "final_pre = pre / n_split\n",
    "print('平均 Accuracy = {:.3f}%'.format(final_acc))\n",
    "print('平均 Recall = {:.3f}%'.format(final_rec))\n",
    "print('平均 Precision = {:.3f}%'.format(final_pre))\n",
    "    \n",
    "    "
   ]
  },
  {
   "cell_type": "markdown",
   "metadata": {},
   "source": [
    "----\n",
    "### 6.L1正則化・L2正則化"
   ]
  },
  {
   "cell_type": "code",
   "execution_count": 43,
   "metadata": {},
   "outputs": [],
   "source": [
    "# L1正則化から行う\n",
    "# penaltyをL1,L2にする事で正則化を行える\n",
    "clf = SGDClassifier(\n",
    "    loss=\"log\", penalty=\"l1\", max_iter=10000, fit_intercept=True, random_state=1234, tol=1e-3\n",
    ")"
   ]
  },
  {
   "cell_type": "code",
   "execution_count": 44,
   "metadata": {},
   "outputs": [
    {
     "name": "stdout",
     "output_type": "stream",
     "text": [
      "Fold 1\n",
      "Accuracy = 61.241%\n",
      "Recall = 13.235%\n",
      "Precision = 56.992%\n",
      "\n",
      "Fold 2\n",
      "Accuracy = 60.504%\n",
      "Recall = 8.819%\n",
      "Precision = 58.442%\n",
      "\n",
      "Fold 3\n",
      "Accuracy = 60.039%\n",
      "Recall = 8.527%\n",
      "Precision = 55.478%\n",
      "\n",
      "Fold 4\n",
      "Accuracy = 61.123%\n",
      "Recall = 25.524%\n",
      "Precision = 54.530%\n",
      "\n",
      "Fold 5\n",
      "Accuracy = 61.747%\n",
      "Recall = 22.854%\n",
      "Precision = 55.622%\n",
      "\n",
      "平均 Accuracy = 60.930%\n",
      "平均 Recall = 15.792%\n",
      "平均 Precision = 56.213%\n"
     ]
    }
   ],
   "source": [
    "# 分割数n_splits, ランダム性の固定を行うrandom_state, データのシャッフルを行うかを指定するshuffleを引数に与える\n",
    "n_split = 5 \n",
    "kf=KFold(n_splits=n_split, random_state=1234, shuffle=True)\n",
    "\n",
    "split_num = 1\n",
    "acc = 0\n",
    "rec = 0\n",
    "pre = 0\n",
    "# テスト役を交代させながら学習と評価を繰り返す\n",
    "for train_idx, test_idx in kf.split(x, y):\n",
    "    X_train, y_train = x[train_idx], y[train_idx] #学習用データ\n",
    "    X_test, y_test = x[test_idx], y[test_idx]  #テスト用データ\n",
    "    \n",
    "    #標準化をする\n",
    "    X_tr_sc = std_scaler.fit_transform(X_train)\n",
    "    X_te_sc = std_scaler.transform(X_test)\n",
    "    \n",
    "    # 学習用データを使って線形回帰モデルを学習\n",
    "    clf.fit(X_tr_sc,y_train)\n",
    "    \n",
    "   #クロスバリデーションの結果を算出\n",
    "    y_pred = clf.predict(X_te_sc)\n",
    "    tn, fp, fn, tp = confusion_matrix(y_test, y_pred).ravel() \n",
    "    accuracy = 100 * (tn+tp)/(tn+fp+fn+tp)\n",
    "    recall = 100 * (tp)/(fn+tp)\n",
    "    precision = 100 * (tp)/(fp+tp)\n",
    "    print(\"Fold %s\"%split_num)\n",
    "    print('Accuracy = {:.3f}%'.format(accuracy)) \n",
    "    print('Recall = {:.3f}%'.format(recall)) \n",
    "    print('Precision = {:.3f}%'.format(precision))\n",
    "    print()\n",
    "\n",
    "    acc += accuracy\n",
    "    rec += recall\n",
    "    pre += precision\n",
    "    split_num +=1\n",
    "\n",
    "final_acc = acc / n_split\n",
    "final_rec = rec / n_split\n",
    "final_pre = pre / n_split\n",
    "print('平均 Accuracy = {:.3f}%'.format(final_acc))\n",
    "print('平均 Recall = {:.3f}%'.format(final_rec))\n",
    "print('平均 Precision = {:.3f}%'.format(final_pre))\n",
    "    "
   ]
  },
  {
   "cell_type": "markdown",
   "metadata": {},
   "source": [
    "続いてL2正則化も試してみる"
   ]
  },
  {
   "cell_type": "code",
   "execution_count": 45,
   "metadata": {},
   "outputs": [],
   "source": [
    "# L2正則化\n",
    "clf = SGDClassifier(\n",
    "    loss=\"log\", penalty=\"l2\", max_iter=10000, fit_intercept=True, random_state=1234, tol=1e-3\n",
    ")"
   ]
  },
  {
   "cell_type": "code",
   "execution_count": 46,
   "metadata": {},
   "outputs": [
    {
     "name": "stdout",
     "output_type": "stream",
     "text": [
      "Fold 1\n",
      "Accuracy = 61.135%\n",
      "Recall = 16.204%\n",
      "Precision = 55.071%\n",
      "\n",
      "Fold 2\n",
      "Accuracy = 59.940%\n",
      "Recall = 5.419%\n",
      "Precision = 55.974%\n",
      "\n",
      "Fold 3\n",
      "Accuracy = 60.082%\n",
      "Recall = 18.860%\n",
      "Precision = 52.493%\n",
      "\n",
      "Fold 4\n",
      "Accuracy = 60.718%\n",
      "Recall = 19.041%\n",
      "Precision = 54.658%\n",
      "\n",
      "Fold 5\n",
      "Accuracy = 61.049%\n",
      "Recall = 14.761%\n",
      "Precision = 55.403%\n",
      "\n",
      "平均 Accuracy = 60.585%\n",
      "平均 Recall = 14.857%\n",
      "平均 Precision = 54.720%\n"
     ]
    }
   ],
   "source": [
    "# 分割数n_splits, ランダム性の固定を行うrandom_state, データのシャッフルを行うかを指定するshuffleを引数に与える\n",
    "n_split = 5 \n",
    "kf=KFold(n_splits=n_split, random_state=1234, shuffle=True)\n",
    "\n",
    "acc = 0\n",
    "rec = 0\n",
    "pre = 0\n",
    "split_num = 1\n",
    "# テスト役を交代させながら学習と評価を繰り返す\n",
    "for train_idx, test_idx in kf.split(x, y):\n",
    "    X_train, y_train = x[train_idx], y[train_idx] #学習用データ\n",
    "    X_test, y_test = x[test_idx], y[test_idx]  #テスト用データ\n",
    "    \n",
    "    #標準化をする\n",
    "    X_tr_sc = std_scaler.fit_transform(X_train)\n",
    "    X_te_sc = std_scaler.transform(X_test)\n",
    "    \n",
    "    # 学習用データを使って線形回帰モデルを学習\n",
    "    clf.fit(X_tr_sc,y_train)\n",
    "    \n",
    "    # テストデータに対する予測を実行\n",
    "    pred = clf.score(X_te_sc,y_test)\n",
    "    \n",
    "    #クロスバリデーションの結果を算出\n",
    "    y_pred = clf.predict(X_te_sc)\n",
    "    tn, fp, fn, tp = confusion_matrix(y_test, y_pred).ravel() \n",
    "    accuracy = 100 * (tn+tp)/(tn+fp+fn+tp)\n",
    "    recall = 100 * (tp)/(fn+tp)\n",
    "    precision = 100 * (tp)/(fp+tp)\n",
    "    print(\"Fold %s\"%split_num)\n",
    "    print('Accuracy = {:.3f}%'.format(accuracy)) \n",
    "    print('Recall = {:.3f}%'.format(recall)) \n",
    "    print('Precision = {:.3f}%'.format(precision))\n",
    "    print()\n",
    "\n",
    "    acc += accuracy\n",
    "    rec += recall\n",
    "    pre += precision\n",
    "    split_num +=1\n",
    "\n",
    "final_acc = acc / n_split\n",
    "final_rec = rec / n_split\n",
    "final_pre = pre / n_split\n",
    "print('平均 Accuracy = {:.3f}%'.format(final_acc))\n",
    "print('平均 Recall = {:.3f}%'.format(final_rec))\n",
    "print('平均 Precision = {:.3f}%'.format(final_pre))\n",
    "    \n",
    "    "
   ]
  },
  {
   "cell_type": "markdown",
   "metadata": {},
   "source": [
    "続いてハイパーパラメータチューニングを行っていく"
   ]
  },
  {
   "cell_type": "code",
   "execution_count": 47,
   "metadata": {},
   "outputs": [
    {
     "name": "stdout",
     "output_type": "stream",
     "text": [
      "{'alpha': 0.0001, 'penalty': 'l1'} 0.608156389209235\n"
     ]
    }
   ],
   "source": [
    "from sklearn.model_selection import GridSearchCV\n",
    "param = {\"penalty\":[\"l1\",\"l2\"], \"alpha\":[0.0001,0.001,0.01,0.1]}\n",
    "model =  SGDClassifier(\n",
    "    loss=\"log\",fit_intercept=True, random_state=1234, max_iter=10000, tol=1e-3\n",
    ")\n",
    "clf = GridSearchCV(model,param,cv=5)\n",
    "clf.fit(X_tr_sc,y_train)\n",
    "print(clf.best_params_, clf.best_score_)"
   ]
  },
  {
   "cell_type": "markdown",
   "metadata": {},
   "source": [
    "チューニングしたハイパーパラメータを用いて交差検証法を行う"
   ]
  },
  {
   "cell_type": "code",
   "execution_count": 48,
   "metadata": {},
   "outputs": [
    {
     "name": "stdout",
     "output_type": "stream",
     "text": [
      "Fold 1\n",
      "Accuracy = 61.880%\n",
      "Recall = 24.637%\n",
      "Precision = 55.450%\n",
      "\n",
      "Fold 2\n",
      "Accuracy = 61.265%\n",
      "Recall = 21.227%\n",
      "Precision = 55.820%\n",
      "\n",
      "Fold 3\n",
      "Accuracy = 61.269%\n",
      "Recall = 22.999%\n",
      "Precision = 55.704%\n",
      "\n",
      "Fold 4\n",
      "Accuracy = 61.306%\n",
      "Recall = 21.800%\n",
      "Precision = 56.032%\n",
      "\n",
      "Fold 5\n",
      "Accuracy = 61.747%\n",
      "Recall = 22.854%\n",
      "Precision = 55.622%\n",
      "\n",
      "平均 Accuracy = 61.493%\n",
      "平均 Recall = 22.703%\n",
      "平均 Precision = 55.725%\n"
     ]
    }
   ],
   "source": [
    "clf2 = SGDClassifier(**clf.best_params_,loss=\"log\" ,fit_intercept=True, random_state=1234, max_iter=10000, tol=1e-3)\n",
    "\n",
    "# 分割数n_splits, ランダム性の固定を行うrandom_state, データのシャッフルを行うかを指定するshuffleを引数に与える\n",
    "n_split = 5 \n",
    "\n",
    "kf=KFold(n_splits=n_split, random_state=1234, shuffle=True)\n",
    "\n",
    "acc = 0\n",
    "rec = 0\n",
    "pre = 0\n",
    "split_num = 1\n",
    "# テスト役を交代させながら学習と評価を繰り返す\n",
    "for train_idx, test_idx in kf.split(x, y):\n",
    "    X_train, y_train = x[train_idx], y[train_idx] #学習用データ\n",
    "    X_test, y_test = x[test_idx], y[test_idx]  #テスト用データ\n",
    "    \n",
    "    #標準化をする\n",
    "    X_tr_sc = std_scaler.fit_transform(X_train)\n",
    "    X_te_sc = std_scaler.transform(X_test)\n",
    "    \n",
    "    # 学習用データを使って線形回帰モデルを学習\n",
    "    clf2.fit(X_tr_sc,y_train)\n",
    "    \n",
    "    #クロスバリデーションの結果を算出\n",
    "    #混同行列を作成 \n",
    "    y_pred = clf.predict(X_te_sc)\n",
    "    tn, fp, fn, tp = confusion_matrix(y_test, y_pred).ravel() \n",
    "    accuracy = 100 * (tn+tp)/(tn+fp+fn+tp)\n",
    "    recall = 100 * (tp)/(fn+tp)\n",
    "    precision = 100 * (tp)/(fp+tp)\n",
    "    print(\"Fold %s\"%split_num)\n",
    "    print('Accuracy = {:.3f}%'.format(accuracy)) \n",
    "    print('Recall = {:.3f}%'.format(recall)) \n",
    "    print('Precision = {:.3f}%'.format(precision))\n",
    "    print()\n",
    "\n",
    "    acc += accuracy\n",
    "    rec += recall\n",
    "    pre += precision\n",
    "    split_num +=1\n",
    "\n",
    "final_acc = acc / n_split\n",
    "final_rec = rec / n_split\n",
    "final_pre = pre / n_split\n",
    "print('平均 Accuracy = {:.3f}%'.format(final_acc))\n",
    "print('平均 Recall = {:.3f}%'.format(final_rec))\n",
    "print('平均 Precision = {:.3f}%'.format(final_pre))\n",
    "    \n",
    "    "
   ]
  },
  {
   "cell_type": "markdown",
   "metadata": {},
   "source": [
    "わずかに精度の向上が見られた"
   ]
  },
  {
   "cell_type": "markdown",
   "metadata": {},
   "source": [
    "次は特徴量選択を行う"
   ]
  },
  {
   "cell_type": "markdown",
   "metadata": {},
   "source": [
    "----\n",
    "### 7.特徴量抽出"
   ]
  },
  {
   "cell_type": "markdown",
   "metadata": {},
   "source": [
    "LASSOによる特徴選択"
   ]
  },
  {
   "cell_type": "code",
   "execution_count": 49,
   "metadata": {},
   "outputs": [
    {
     "data": {
      "text/plain": [
       "SelectFromModel(estimator=LassoCV(alphas=None, copy_X=True, cv=10, eps=0.001, fit_intercept=True,\n",
       "    max_iter=1000, n_alphas=100, n_jobs=None, normalize=True,\n",
       "    positive=False, precompute='auto', random_state=None,\n",
       "    selection='cyclic', tol=0.0001, verbose=False),\n",
       "        max_features=None, norm_order=1, prefit=False, threshold=1e-05)"
      ]
     },
     "execution_count": 49,
     "metadata": {},
     "output_type": "execute_result"
    }
   ],
   "source": [
    "from sklearn.linear_model import LassoCV\n",
    "from sklearn.feature_selection import SelectFromModel\n",
    "\n",
    "\n",
    "#ここでもう一度目的変数と説明変数を改めて定義し直す\n",
    "#無相関化したデータを用いる\n",
    "y = df_csv[\"state\"].values\n",
    "x = df_csv.drop(columns=[\"state\"]).values\n",
    "\n",
    "#学習用データ、テストデータに分割する\n",
    "test_size=0.3\n",
    "X_train, X_test, y_train, y_test = train_test_split(x, y, test_size=test_size)\n",
    "\n",
    "#それぞれを標準化する\n",
    "X_tr_sc = std_scaler.fit_transform(X_train)\n",
    "X_te_sc = std_scaler.transform(X_test)\n",
    "\n",
    "#特徴量を抽出する\n",
    "# estimatorにモデルセット\n",
    "# LassoCVを使って、正則化の強さは自動設定\n",
    "estimator = LassoCV(normalize=True, cv=10)\n",
    "sfm = SelectFromModel(estimator, threshold=1e-5)\n",
    "sfm.fit(X_tr_sc,y_train)"
   ]
  },
  {
   "cell_type": "markdown",
   "metadata": {},
   "source": [
    "Lassoによって選択された特徴量を使用して、学習を行う"
   ]
  },
  {
   "cell_type": "code",
   "execution_count": 50,
   "metadata": {},
   "outputs": [
    {
     "name": "stdout",
     "output_type": "stream",
     "text": [
      "Accuracy = 61.275%\n",
      "Recall = 19.949%\n",
      "Precision = 56.109%\n"
     ]
    }
   ],
   "source": [
    "X_tr_lasso = sfm.transform(X_tr_sc)\n",
    "X_te_lasso = sfm.transform(X_te_sc)\n",
    "\n",
    "clf = SGDClassifier(\n",
    "    loss=\"log\", penalty=\"none\", max_iter=10000, fit_intercept=True, random_state=1234, tol=1e-3\n",
    ")\n",
    "\n",
    "clf.fit(X_tr_lasso,y_train)\n",
    "y_pred = clf.predict(X_te_lasso)\n",
    "\n",
    "#混合行列を作成\n",
    "tn, fp, fn, tp = confusion_matrix(y_test, y_pred).ravel() \n",
    "print('Accuracy = {:.3f}%'.format(100 * (tn+tp)/(tn+fp+fn+tp))) \n",
    "print('Recall = {:.3f}%'.format(100 * (tp)/(fn+tp))) \n",
    "print('Precision = {:.3f}%'.format(100 * (tp)/(fp+tp)))\n",
    "\n"
   ]
  },
  {
   "cell_type": "markdown",
   "metadata": {},
   "source": [
    "今までで一番精度の良いモデルが期待できそうなため、クロスバリデーションでより確実な精度を求める"
   ]
  },
  {
   "cell_type": "code",
   "execution_count": 51,
   "metadata": {},
   "outputs": [
    {
     "name": "stdout",
     "output_type": "stream",
     "text": [
      "Fold 1\n",
      "Accuracy = 61.699%\n",
      "Recall = 27.030%\n",
      "Precision = 54.421%\n",
      "\n",
      "Fold 2\n",
      "Accuracy = 60.626%\n",
      "Recall = 10.351%\n",
      "Precision = 57.979%\n",
      "\n",
      "Fold 3\n",
      "Accuracy = 60.453%\n",
      "Recall = 26.790%\n",
      "Precision = 52.657%\n",
      "\n",
      "Fold 4\n",
      "Accuracy = 61.183%\n",
      "Recall = 28.027%\n",
      "Precision = 54.248%\n",
      "\n",
      "Fold 5\n",
      "Accuracy = 61.552%\n",
      "Recall = 27.695%\n",
      "Precision = 54.033%\n",
      "\n",
      "平均 Accuracy = 61.103%\n",
      "平均 Recall = 23.979%\n",
      "平均 Precision = 54.668%\n"
     ]
    }
   ],
   "source": [
    "#無相関化したデータを用いる\n",
    "y = df_csv[\"state\"].values\n",
    "x = df_csv.drop(columns=[\"state\"]).values\n",
    "\n",
    "#モデルの定義\n",
    "clf = SGDClassifier(\n",
    "    loss=\"log\", penalty=\"none\", max_iter=10000, fit_intercept=True, random_state=1234, tol=1e-3\n",
    ")\n",
    "\n",
    "# 分割数n_splits, ランダム性の固定を行うrandom_state, データのシャッフルを行うかを指定するshuffleを引数に与える\n",
    "n_split = 5 \n",
    "\n",
    "kf=KFold(n_splits=n_split, random_state=1234, shuffle=True)\n",
    "\n",
    "acc = 0\n",
    "rec = 0\n",
    "pre = 0\n",
    "split_num = 1\n",
    "# テスト役を交代させながら学習と評価を繰り返す\n",
    "for train_idx, test_idx in kf.split(x, y):\n",
    "    X_train, y_train = x[train_idx], y[train_idx] #学習用データ\n",
    "    X_test, y_test = x[test_idx], y[test_idx]  #テスト用データ\n",
    "    \n",
    "    #標準化をする\n",
    "    X_tr_sc = std_scaler.fit_transform(X_train)\n",
    "    X_te_sc = std_scaler.transform(X_test)\n",
    "    \n",
    "    #特徴量を抽出する\n",
    "    # estimatorにモデルセット\n",
    "    # LassoCVを使って、正則化の強さは自動設定\n",
    "    estimator = LassoCV(normalize=True, cv=10)\n",
    "    sfm = SelectFromModel(estimator, threshold=1e-5)\n",
    "    sfm.fit(X_tr_sc,y_train)\n",
    "    \n",
    "    X_tr_lasso = sfm.transform(X_tr_sc)\n",
    "    X_te_lasso = sfm.transform(X_te_sc)\n",
    "    \n",
    "    # 学習用データを使って線形回帰モデルを学習\n",
    "    clf.fit(X_tr_lasso,y_train)\n",
    "    \n",
    "    #クロスバリデーションの結果を算出\n",
    "    y_pred = clf.predict(X_te_lasso)\n",
    "    tn, fp, fn, tp = confusion_matrix(y_test, y_pred).ravel() \n",
    "    accuracy = 100 * (tn+tp)/(tn+fp+fn+tp)\n",
    "    recall = 100 * (tp)/(fn+tp)\n",
    "    precision = 100 * (tp)/(fp+tp)\n",
    "    print(\"Fold %s\"%split_num)\n",
    "    print('Accuracy = {:.3f}%'.format(accuracy)) \n",
    "    print('Recall = {:.3f}%'.format(recall)) \n",
    "    print('Precision = {:.3f}%'.format(precision))\n",
    "    print()\n",
    "\n",
    "    acc += accuracy\n",
    "    rec += recall\n",
    "    pre += precision\n",
    "    split_num +=1\n",
    "\n",
    "final_acc = acc / n_split\n",
    "final_rec = rec / n_split\n",
    "final_pre = pre / n_split\n",
    "print('平均 Accuracy = {:.3f}%'.format(final_acc))\n",
    "print('平均 Recall = {:.3f}%'.format(final_rec))\n",
    "print('平均 Precision = {:.3f}%'.format(final_pre))\n",
    "    \n",
    "    "
   ]
  },
  {
   "cell_type": "markdown",
   "metadata": {},
   "source": [
    "学習前に確認しなかった、必要な特徴を確認する"
   ]
  },
  {
   "cell_type": "code",
   "execution_count": 52,
   "metadata": {},
   "outputs": [
    {
     "data": {
      "text/plain": [
       "array([ True,  True,  True,  True,  True,  True,  True,  True])"
      ]
     },
     "execution_count": 52,
     "metadata": {},
     "output_type": "execute_result"
    }
   ],
   "source": [
    "# Trueになっている特徴が学習に必要な特徴\n",
    "sfm.get_support()"
   ]
  },
  {
   "cell_type": "markdown",
   "metadata": {},
   "source": [
    "やはりここでは特徴量が少ないため、削除する必要がなさそうだ"
   ]
  },
  {
   "cell_type": "code",
   "execution_count": 53,
   "metadata": {},
   "outputs": [
    {
     "data": {
      "text/plain": [
       "array([0.00104298, 0.02005412, 0.0163457 , 0.01243258, 0.01072718,\n",
       "       0.028824  , 0.00191157, 0.05664956])"
      ]
     },
     "execution_count": 53,
     "metadata": {},
     "output_type": "execute_result"
    }
   ],
   "source": [
    "# LASSOで得た各特徴の係数の値を確認してみよう\n",
    "# 係数の絶対値を取得\n",
    "abs_coef = np.abs(sfm.estimator_.coef_)\n",
    "abs_coef"
   ]
  },
  {
   "cell_type": "code",
   "execution_count": 54,
   "metadata": {},
   "outputs": [
    {
     "data": {
      "image/png": "[encoded data removed]",
      "text/plain": [
       "<Figure size 432x288 with 1 Axes>"
      ]
     },
     "metadata": {
      "needs_background": "light"
     },
     "output_type": "display_data"
    }
   ],
   "source": [
    "# 係数を棒グラフで表示\n",
    "plt.barh(np.arange(0, len(abs_coef)), abs_coef,tick_label=df_csv.drop(columns=[\"state\"]).columns.values)\n",
    "plt.show()"
   ]
  },
  {
   "cell_type": "markdown",
   "metadata": {},
   "source": [
    "比較的値が低い\"name\"を削除して学習を試みる"
   ]
  },
  {
   "cell_type": "code",
   "execution_count": 55,
   "metadata": {},
   "outputs": [],
   "source": [
    "df_csv = df_csv.drop(columns=[\"name\"],axis=1)"
   ]
  },
  {
   "cell_type": "markdown",
   "metadata": {},
   "source": [
    "--------------\n",
    "##### 今後の大まかな学習手順は、以下の通りに進める（学習方法によって最適な手段で進める）"
   ]
  },
  {
   "attachments": {
    "2020-12-12.png": {
     "image/png": "[encoded data removed]"
    }
   },
   "cell_type": "markdown",
   "metadata": {},
   "source": [
    "![2020-12-12.png](attachment:2020-12-12.png)"
   ]
  },
  {
   "cell_type": "markdown",
   "metadata": {},
   "source": [
    "----\n",
    "### 8.SVM (サポートベクターマシーン)"
   ]
  },
  {
   "cell_type": "markdown",
   "metadata": {},
   "source": [
    "* ここで気を付けたいことは、説明変数が8個ありデータも大きいため、計算に時間がかかってしまう\n",
    "* そのためLassoで特徴量を抽出したデータで学習を試みる\n",
    "* 今までで線形回帰モデルで試してきたが精度の向上見られなかったため、非線形分離を行う。よってカーネルはRBFを用いる"
   ]
  },
  {
   "cell_type": "code",
   "execution_count": 56,
   "metadata": {},
   "outputs": [],
   "source": [
    "y = df_csv1[\"state\"].values\n",
    "x = df_csv1.drop(columns=[\"state\"]).values\n",
    "test_size = 0.3\n",
    "#学習用データ、テスト用データに分割する\n",
    "X_train, X_test, y_train, y_test = train_test_split(x, y, test_size=test_size)\n",
    "#標準化をする\n",
    "X_tr_sc = std_scaler.fit_transform(X_train)\n",
    "X_te_sc = std_scaler.transform(X_test)"
   ]
  },
  {
   "cell_type": "code",
   "execution_count": 57,
   "metadata": {},
   "outputs": [
    {
     "name": "stdout",
     "output_type": "stream",
     "text": [
      "Accuracy = 64.629%\n",
      "Recall = 38.150%\n",
      "Precision = 59.396%\n"
     ]
    }
   ],
   "source": [
    "from sklearn.svm import SVC\n",
    "# SVMの実行\n",
    "C = 5\n",
    "# 非線形モデルを使う\n",
    "kernel = \"rbf\"\n",
    "# 誤分類のどのくらい許容するかを決めるパラメータ\n",
    "gamma = 1\n",
    "clf = SVC(C=C, kernel=kernel, gamma=gamma)\n",
    "clf.fit(X_tr_sc, y_train)\n",
    "y_pred = clf.predict(X_te_sc)\n",
    "\n",
    "#混合行列を作成\n",
    "tn, fp, fn, tp = confusion_matrix(y_test, y_pred).ravel()\n",
    "accuracy = 100 * (tn+tp)/(tn+fp+fn+tp)\n",
    "recall = 100 * (tp)/(fn+tp)\n",
    "precision = 100 * (tp)/(fp+tp)\n",
    "print('Accuracy = {:.3f}%'.format(accuracy))\n",
    "print('Recall = {:.3f}%'.format(recall))\n",
    "print('Precision = {:.3f}%'.format(precision))"
   ]
  },
  {
   "cell_type": "code",
   "execution_count": 58,
   "metadata": {},
   "outputs": [
    {
     "data": {
      "text/html": [
       "<div>\n",
       "<style scoped>\n",
       "    .dataframe tbody tr th:only-of-type {\n",
       "        vertical-align: middle;\n",
       "    }\n",
       "\n",
       "    .dataframe tbody tr th {\n",
       "        vertical-align: top;\n",
       "    }\n",
       "\n",
       "    .dataframe thead th {\n",
       "        text-align: right;\n",
       "    }\n",
       "</style>\n",
       "<table border=\"1\" class=\"dataframe\">\n",
       "  <thead>\n",
       "    <tr style=\"text-align: right;\">\n",
       "      <th></th>\n",
       "      <th>予測 = クラウドファンディング成功</th>\n",
       "      <th>予測 = クラウドファンディング失敗</th>\n",
       "    </tr>\n",
       "  </thead>\n",
       "  <tbody>\n",
       "    <tr>\n",
       "      <th>正解 = クラウドファンディング成功</th>\n",
       "      <td>49037</td>\n",
       "      <td>10439</td>\n",
       "    </tr>\n",
       "    <tr>\n",
       "      <th>正解 = クラウドファンディング失敗</th>\n",
       "      <td>24756</td>\n",
       "      <td>15270</td>\n",
       "    </tr>\n",
       "  </tbody>\n",
       "</table>\n",
       "</div>"
      ],
      "text/plain": [
       "                    予測 = クラウドファンディング成功  予測 = クラウドファンディング失敗\n",
       "正解 = クラウドファンディング成功               49037               10439\n",
       "正解 = クラウドファンディング失敗               24756               15270"
      ]
     },
     "metadata": {},
     "output_type": "display_data"
    },
    {
     "data": {
      "image/png": "[encoded data removed]",
      "text/plain": [
       "<Figure size 432x288 with 2 Axes>"
      ]
     },
     "metadata": {
      "needs_background": "light"
     },
     "output_type": "display_data"
    }
   ],
   "source": [
    "# 予測値と正解のクロス集計\n",
    "conf_mat = pd.DataFrame(confusion_matrix(y_test,y_pred),\n",
    "                       index=[\"正解 = クラウドファンディング成功\",\"正解 = クラウドファンディング失敗\"],\n",
    "                       columns=[\"予測 = クラウドファンディング成功\", \"予測 = クラウドファンディング失敗\"])\n",
    "display(conf_mat)\n",
    "sns.heatmap(confusion_matrix(y_test, y_pred),annot=True,fmt='d')\n",
    "plt.show()"
   ]
  },
  {
   "cell_type": "markdown",
   "metadata": {},
   "source": [
    "今まで最も良い精度を更新した"
   ]
  },
  {
   "cell_type": "markdown",
   "metadata": {},
   "source": [
    "計算時間が非常に多くかかるため、ハイパーパラメーターチューニングとクロスバリデーションは、今後の手法の結果次第とする"
   ]
  },
  {
   "cell_type": "markdown",
   "metadata": {},
   "source": [
    "----\n",
    "### 9.決定木"
   ]
  },
  {
   "cell_type": "code",
   "execution_count": 59,
   "metadata": {},
   "outputs": [],
   "source": [
    "from sklearn.tree import DecisionTreeClassifier"
   ]
  },
  {
   "cell_type": "code",
   "execution_count": 60,
   "metadata": {},
   "outputs": [
    {
     "name": "stdout",
     "output_type": "stream",
     "text": [
      "Accuracy = 60.859%\n",
      "Recall = 49.250%\n",
      "Precision = 51.408%\n"
     ]
    }
   ],
   "source": [
    "#決定木モデルの定義\n",
    "clf =  DecisionTreeClassifier(\n",
    "    criterion=\"gini\",\n",
    "    max_depth=None,\n",
    "    min_samples_split=3,\n",
    "    min_samples_leaf=3,\n",
    "    random_state=1234)\n",
    "#学習\n",
    "clf.fit(X_tr_sc, y_train)\n",
    "\n",
    "y_pred = clf.predict(X_te_sc)\n",
    "#混合行列を作成\n",
    "tn, fp, fn, tp = confusion_matrix(y_test, y_pred).ravel()\n",
    "accuracy = 100 * (tn+tp)/(tn+fp+fn+tp)\n",
    "recall = 100 * (tp)/(fn+tp)\n",
    "precision = 100 * (tp)/(fp+tp)\n",
    "print('Accuracy = {:.3f}%'.format(accuracy))\n",
    "print('Recall = {:.3f}%'.format(recall))\n",
    "print('Precision = {:.3f}%'.format(precision))"
   ]
  },
  {
   "cell_type": "code",
   "execution_count": 61,
   "metadata": {},
   "outputs": [
    {
     "data": {
      "text/html": [
       "<div>\n",
       "<style scoped>\n",
       "    .dataframe tbody tr th:only-of-type {\n",
       "        vertical-align: middle;\n",
       "    }\n",
       "\n",
       "    .dataframe tbody tr th {\n",
       "        vertical-align: top;\n",
       "    }\n",
       "\n",
       "    .dataframe thead th {\n",
       "        text-align: right;\n",
       "    }\n",
       "</style>\n",
       "<table border=\"1\" class=\"dataframe\">\n",
       "  <thead>\n",
       "    <tr style=\"text-align: right;\">\n",
       "      <th></th>\n",
       "      <th>予測 = クラウドファンディング成功</th>\n",
       "      <th>予測 = クラウドファンディング失敗</th>\n",
       "    </tr>\n",
       "  </thead>\n",
       "  <tbody>\n",
       "    <tr>\n",
       "      <th>正解 = クラウドファンディング成功</th>\n",
       "      <td>40843</td>\n",
       "      <td>18633</td>\n",
       "    </tr>\n",
       "    <tr>\n",
       "      <th>正解 = クラウドファンディング失敗</th>\n",
       "      <td>20313</td>\n",
       "      <td>19713</td>\n",
       "    </tr>\n",
       "  </tbody>\n",
       "</table>\n",
       "</div>"
      ],
      "text/plain": [
       "                    予測 = クラウドファンディング成功  予測 = クラウドファンディング失敗\n",
       "正解 = クラウドファンディング成功               40843               18633\n",
       "正解 = クラウドファンディング失敗               20313               19713"
      ]
     },
     "metadata": {},
     "output_type": "display_data"
    },
    {
     "data": {
      "image/png": "[encoded data removed]",
      "text/plain": [
       "<Figure size 432x288 with 2 Axes>"
      ]
     },
     "metadata": {
      "needs_background": "light"
     },
     "output_type": "display_data"
    }
   ],
   "source": [
    "# 予測値と正解のクロス集計\n",
    "conf_mat = pd.DataFrame(confusion_matrix(y_test,y_pred),\n",
    "                       index=[\"正解 = クラウドファンディング成功\",\"正解 = クラウドファンディング失敗\"],\n",
    "                       columns=[\"予測 = クラウドファンディング成功\", \"予測 = クラウドファンディング失敗\"])\n",
    "display(conf_mat)\n",
    "sns.heatmap(confusion_matrix(y_test, y_pred),annot=True,fmt='d')\n",
    "plt.show()"
   ]
  },
  {
   "cell_type": "markdown",
   "metadata": {},
   "source": [
    "精度をより上げるため、ハイパーパラメータチューニングを行っていく"
   ]
  },
  {
   "cell_type": "code",
   "execution_count": 62,
   "metadata": {},
   "outputs": [
    {
     "name": "stdout",
     "output_type": "stream",
     "text": [
      "{'criterion': 'gini', 'min_samples_leaf': 3, 'min_samples_split': 2, 'splitter': 'random'} 0.6308523926433217\n"
     ]
    }
   ],
   "source": [
    "param = {\"criterion\":[\"gini\",\"entropy\"], \"splitter\":[\"best\",\"random\"],\n",
    "        \"min_samples_split\":[2,3],\"min_samples_leaf\":[2,3]}\n",
    "\n",
    "model =  DecisionTreeClassifier(random_state=1234)\n",
    "\n",
    "clf = GridSearchCV(model,param,cv=5)\n",
    "clf.fit(X_tr_sc,y_train)\n",
    "print(clf.best_params_, clf.best_score_)"
   ]
  },
  {
   "cell_type": "markdown",
   "metadata": {},
   "source": [
    "クロスバリデーションを行う"
   ]
  },
  {
   "cell_type": "code",
   "execution_count": 63,
   "metadata": {},
   "outputs": [
    {
     "name": "stdout",
     "output_type": "stream",
     "text": [
      "Fold 1\n",
      "Accuracy = 63.276%\n",
      "Recall = 46.180%\n",
      "Precision = 54.955%\n",
      "\n",
      "Fold 2\n",
      "Accuracy = 63.332%\n",
      "Recall = 46.134%\n",
      "Precision = 55.756%\n",
      "\n",
      "Fold 3\n",
      "Accuracy = 63.082%\n",
      "Recall = 45.438%\n",
      "Precision = 55.613%\n",
      "\n",
      "Fold 4\n",
      "Accuracy = 63.482%\n",
      "Recall = 45.869%\n",
      "Precision = 56.153%\n",
      "\n",
      "Fold 5\n",
      "Accuracy = 63.658%\n",
      "Recall = 46.038%\n",
      "Precision = 55.675%\n",
      "\n",
      "平均 Accuracy = 63.366%\n",
      "平均 Recall = 45.932%\n",
      "平均 Precision = 55.630%\n"
     ]
    }
   ],
   "source": [
    "# 分割数n_splits, ランダム性の固定を行うrandom_state, データのシャッフルを行うかを指定するshuffleを引数に与える\n",
    "n_split = 5 \n",
    "\n",
    "kf=KFold(n_splits=n_split, random_state=1234, shuffle=True)\n",
    "\n",
    "acc = 0\n",
    "rec = 0\n",
    "pre = 0\n",
    "split_num = 1\n",
    "# テスト役を交代させながら学習と評価を繰り返す\n",
    "for train_idx, test_idx in kf.split(x, y):\n",
    "    X_train, y_train = x[train_idx], y[train_idx] #学習用データ\n",
    "    X_test, y_test = x[test_idx], y[test_idx]  #テスト用データ\n",
    "    \n",
    "    #標準化をする\n",
    "    X_tr_sc = std_scaler.fit_transform(X_train)\n",
    "    X_te_sc = std_scaler.transform(X_test)\n",
    "    \n",
    "    #ハイパーパラメーターチューニングの結果を用いてモデルを構築する\n",
    "    clf2 =  DecisionTreeClassifier(**clf.best_params_, random_state=1234)\n",
    "    # 学習用データを使って学習\n",
    "    clf2.fit(X_tr_sc,y_train)\n",
    "    \n",
    "    #クロスバリデーションの結果を算出\n",
    "    y_pred = clf2.predict(X_te_sc)\n",
    "    tn, fp, fn, tp = confusion_matrix(y_test, y_pred).ravel() \n",
    "    accuracy = 100 * (tn+tp)/(tn+fp+fn+tp)\n",
    "    recall = 100 * (tp)/(fn+tp)\n",
    "    precision = 100 * (tp)/(fp+tp)\n",
    "    print(\"Fold %s\"%split_num)\n",
    "    print('Accuracy = {:.3f}%'.format(accuracy)) \n",
    "    print('Recall = {:.3f}%'.format(recall)) \n",
    "    print('Precision = {:.3f}%'.format(precision))\n",
    "    print()\n",
    "\n",
    "    acc += accuracy\n",
    "    rec += recall\n",
    "    pre += precision\n",
    "    split_num +=1\n",
    "\n",
    "final_acc = acc / n_split\n",
    "final_rec = rec / n_split\n",
    "final_pre = pre / n_split\n",
    "print('平均 Accuracy = {:.3f}%'.format(final_acc))\n",
    "print('平均 Recall = {:.3f}%'.format(final_rec))\n",
    "print('平均 Precision = {:.3f}%'.format(final_pre))\n",
    "    \n",
    "    "
   ]
  },
  {
   "cell_type": "markdown",
   "metadata": {},
   "source": [
    "クロスバリデーションを行った中では、今までで最も良い精度を更新した"
   ]
  },
  {
   "cell_type": "markdown",
   "metadata": {},
   "source": [
    "----\n",
    "### 10.決定木 - ランダムフォレスト"
   ]
  },
  {
   "cell_type": "code",
   "execution_count": 64,
   "metadata": {},
   "outputs": [
    {
     "name": "stdout",
     "output_type": "stream",
     "text": [
      "Accuracy = 65.935%\n",
      "Recall = 51.255%\n",
      "Precision = 58.612%\n"
     ]
    }
   ],
   "source": [
    "#ランダムフォレストのモデルをインポート\n",
    "from sklearn.ensemble import RandomForestClassifier\n",
    "#モデルの定義\n",
    "clf = RandomForestClassifier(n_estimators=20, max_depth=None, criterion=\"entropy\",\n",
    "                                                 min_samples_leaf=2, min_samples_split=3, random_state=1234)\n",
    "clf.fit(X_tr_sc, y_train)\n",
    "\n",
    "y_pred = clf.predict(X_te_sc)\n",
    "#混合行列を作成\n",
    "tn, fp, fn, tp = confusion_matrix(y_test, y_pred).ravel()\n",
    "accuracy = 100 * (tn+tp)/(tn+fp+fn+tp)\n",
    "recall = 100 * (tp)/(fn+tp)\n",
    "precision = 100 * (tp)/(fp+tp)\n",
    "print('Accuracy = {:.3f}%'.format(accuracy))\n",
    "print('Recall = {:.3f}%'.format(recall))\n",
    "print('Precision = {:.3f}%'.format(precision))"
   ]
  },
  {
   "cell_type": "code",
   "execution_count": 65,
   "metadata": {},
   "outputs": [
    {
     "data": {
      "text/html": [
       "<div>\n",
       "<style scoped>\n",
       "    .dataframe tbody tr th:only-of-type {\n",
       "        vertical-align: middle;\n",
       "    }\n",
       "\n",
       "    .dataframe tbody tr th {\n",
       "        vertical-align: top;\n",
       "    }\n",
       "\n",
       "    .dataframe thead th {\n",
       "        text-align: right;\n",
       "    }\n",
       "</style>\n",
       "<table border=\"1\" class=\"dataframe\">\n",
       "  <thead>\n",
       "    <tr style=\"text-align: right;\">\n",
       "      <th></th>\n",
       "      <th>予測 = クラウドファンディング成功</th>\n",
       "      <th>予測 = クラウドファンディング失敗</th>\n",
       "    </tr>\n",
       "  </thead>\n",
       "  <tbody>\n",
       "    <tr>\n",
       "      <th>正解 = クラウドファンディング成功</th>\n",
       "      <td>30101</td>\n",
       "      <td>9629</td>\n",
       "    </tr>\n",
       "    <tr>\n",
       "      <th>正解 = クラウドファンディング失敗</th>\n",
       "      <td>12968</td>\n",
       "      <td>13636</td>\n",
       "    </tr>\n",
       "  </tbody>\n",
       "</table>\n",
       "</div>"
      ],
      "text/plain": [
       "                    予測 = クラウドファンディング成功  予測 = クラウドファンディング失敗\n",
       "正解 = クラウドファンディング成功               30101                9629\n",
       "正解 = クラウドファンディング失敗               12968               13636"
      ]
     },
     "metadata": {},
     "output_type": "display_data"
    },
    {
     "data": {
      "image/png": "[encoded data removed]",
      "text/plain": [
       "<Figure size 432x288 with 2 Axes>"
      ]
     },
     "metadata": {
      "needs_background": "light"
     },
     "output_type": "display_data"
    }
   ],
   "source": [
    "# 予測値と正解のクロス集計\n",
    "conf_mat = pd.DataFrame(confusion_matrix(y_test,y_pred),\n",
    "                       index=[\"正解 = クラウドファンディング成功\",\"正解 = クラウドファンディング失敗\"],\n",
    "                       columns=[\"予測 = クラウドファンディング成功\", \"予測 = クラウドファンディング失敗\"])\n",
    "display(conf_mat)\n",
    "sns.heatmap(confusion_matrix(y_test, y_pred),annot=True,fmt='d')\n",
    "plt.show()"
   ]
  },
  {
   "cell_type": "markdown",
   "metadata": {},
   "source": [
    "ハイパーパラメータチューニングを行う"
   ]
  },
  {
   "cell_type": "markdown",
   "metadata": {},
   "source": [
    "ここでは学習に時間がかかってしまうので上記の結果、ハイパーパラメータ以下の通りにし、\"n_estimators\"をチューニングしていく"
   ]
  },
  {
   "cell_type": "code",
   "execution_count": 66,
   "metadata": {},
   "outputs": [
    {
     "name": "stdout",
     "output_type": "stream",
     "text": [
      "{'n_estimators': 30} 0.6594645320308437\n"
     ]
    }
   ],
   "source": [
    "#チューニングしたいハイパーパラメーター\n",
    "param = {\"n_estimators\":[20,25,30]}\n",
    "\n",
    "model = RandomForestClassifier( max_depth=None, criterion=\"entropy\",\n",
    "                               min_samples_leaf=2, min_samples_split=3, random_state=1234)\n",
    "\n",
    "clf = GridSearchCV(model,param,cv=5)\n",
    "clf.fit(X_tr_sc,y_train)\n",
    "\n",
    "y_pred = clf.predict(X_te_sc)\n",
    "print(clf.best_params_, clf.best_score_)"
   ]
  },
  {
   "cell_type": "markdown",
   "metadata": {},
   "source": [
    "この結果より、\"n_estimators\"を増やしていった方がより良い精度が出ると考えられる"
   ]
  },
  {
   "cell_type": "markdown",
   "metadata": {},
   "source": [
    "そのため、一気に増やして行ってみる"
   ]
  },
  {
   "cell_type": "code",
   "execution_count": 67,
   "metadata": {},
   "outputs": [
    {
     "name": "stdout",
     "output_type": "stream",
     "text": [
      "Accuracy = 66.471%\n",
      "Recall = 51.541%\n",
      "Precision = 59.460%\n"
     ]
    }
   ],
   "source": [
    "clf = RandomForestClassifier(n_estimators=1000, max_depth=None, criterion=\"entropy\",\n",
    "                                                 min_samples_leaf=2, min_samples_split=3, random_state=1234)\n",
    "\n",
    "clf.fit(X_tr_sc, y_train)\n",
    "y_pred = clf.predict(X_te_sc)\n",
    "#混合行列を作成\n",
    "tn, fp, fn, tp = confusion_matrix(y_test, y_pred).ravel()\n",
    "accuracy = 100 * (tn+tp)/(tn+fp+fn+tp)\n",
    "recall = 100 * (tp)/(fn+tp)\n",
    "precision = 100 * (tp)/(fp+tp)\n",
    "print('Accuracy = {:.3f}%'.format(accuracy))\n",
    "print('Recall = {:.3f}%'.format(recall))\n",
    "print('Precision = {:.3f}%'.format(precision))"
   ]
  },
  {
   "cell_type": "markdown",
   "metadata": {},
   "source": [
    "やはり、\"n_estimators\"の数を増やすと精度が上がることが分かった"
   ]
  },
  {
   "cell_type": "markdown",
   "metadata": {},
   "source": [
    "クロスバリデーションを行う"
   ]
  },
  {
   "cell_type": "code",
   "execution_count": 68,
   "metadata": {},
   "outputs": [
    {
     "name": "stdout",
     "output_type": "stream",
     "text": [
      "Fold 1\n",
      "Accuracy = 66.736%\n",
      "Recall = 51.528%\n",
      "Precision = 59.852%\n",
      "\n",
      "Fold 2\n",
      "Accuracy = 66.570%\n",
      "Recall = 51.549%\n",
      "Precision = 60.233%\n",
      "\n",
      "Fold 3\n",
      "Accuracy = 66.785%\n",
      "Recall = 51.532%\n",
      "Precision = 60.781%\n",
      "\n",
      "Fold 4\n",
      "Accuracy = 66.420%\n",
      "Recall = 51.353%\n",
      "Precision = 60.120%\n",
      "\n",
      "Fold 5\n",
      "Accuracy = 66.471%\n",
      "Recall = 51.541%\n",
      "Precision = 59.460%\n",
      "\n",
      "平均 Accuracy = 66.596%\n",
      "平均 Recall = 51.501%\n",
      "平均 Precision = 60.089%\n"
     ]
    }
   ],
   "source": [
    "# 分割数n_splits, ランダム性の固定を行うrandom_state, データのシャッフルを行うかを指定するshuffleを引数に与える\n",
    "n_split = 5 \n",
    "\n",
    "kf=KFold(n_splits=n_split, random_state=1234, shuffle=True)\n",
    "\n",
    "acc = 0\n",
    "rec = 0\n",
    "pre = 0\n",
    "split_num = 1\n",
    "# テスト役を交代させながら学習と評価を繰り返す\n",
    "for train_idx, test_idx in kf.split(x, y):\n",
    "    X_train, y_train = x[train_idx], y[train_idx] #学習用データ\n",
    "    X_test, y_test = x[test_idx], y[test_idx]  #テスト用データ\n",
    "    \n",
    "    #標準化をする\n",
    "    X_tr_sc = std_scaler.fit_transform(X_train)\n",
    "    X_te_sc = std_scaler.transform(X_test)\n",
    "    \n",
    "    \n",
    "    #ハイパーパラメーターチューニングの結果を用いてモデルを構築する\n",
    "    clf2 = RandomForestClassifier(n_estimators=1000, max_depth=None, criterion=\"entropy\",\n",
    "                                                 min_samples_leaf=2, min_samples_split=3, random_state=1234)\n",
    "    # 学習用データを使って学習\n",
    "    clf2.fit(X_tr_sc,y_train)\n",
    "    \n",
    "    #クロスバリデーションの結果を算出\n",
    "    y_pred = clf2.predict(X_te_sc)\n",
    "    tn, fp, fn, tp = confusion_matrix(y_test, y_pred).ravel() \n",
    "    accuracy = 100 * (tn+tp)/(tn+fp+fn+tp)\n",
    "    recall = 100 * (tp)/(fn+tp)\n",
    "    precision = 100 * (tp)/(fp+tp)\n",
    "    print(\"Fold %s\"%split_num)\n",
    "    print('Accuracy = {:.3f}%'.format(accuracy)) \n",
    "    print('Recall = {:.3f}%'.format(recall)) \n",
    "    print('Precision = {:.3f}%'.format(precision))\n",
    "    print()\n",
    "\n",
    "    acc += accuracy\n",
    "    rec += recall\n",
    "    pre += precision\n",
    "    split_num +=1\n",
    "\n",
    "final_acc = acc / n_split\n",
    "final_rec = rec / n_split\n",
    "final_pre = pre / n_split\n",
    "print('平均 Accuracy = {:.3f}%'.format(final_acc))\n",
    "print('平均 Recall = {:.3f}%'.format(final_rec))\n",
    "print('平均 Precision = {:.3f}%'.format(final_pre))\n",
    "    \n",
    "    "
   ]
  },
  {
   "cell_type": "markdown",
   "metadata": {},
   "source": [
    "前回に引き続き最も良い精度を更新した"
   ]
  },
  {
   "cell_type": "markdown",
   "metadata": {},
   "source": [
    "----\n",
    "### 11.決定木 - アダブースト"
   ]
  },
  {
   "cell_type": "code",
   "execution_count": 69,
   "metadata": {},
   "outputs": [],
   "source": [
    "from sklearn.ensemble import AdaBoostClassifier\n",
    "from sklearn.tree import DecisionTreeClassifier"
   ]
  },
  {
   "cell_type": "code",
   "execution_count": 70,
   "metadata": {},
   "outputs": [
    {
     "name": "stdout",
     "output_type": "stream",
     "text": [
      "Accuracy = 67.643%\n",
      "Recall = 53.458%\n",
      "Precision = 61.028%\n"
     ]
    }
   ],
   "source": [
    "#モデルの定義\n",
    "clf = AdaBoostClassifier(DecisionTreeClassifier(max_depth=10, criterion=\"entropy\",\n",
    "                                                 min_samples_leaf=2, min_samples_split=3),\n",
    "                         random_state=1234, n_estimators=10)\n",
    "clf.fit(X_tr_sc, y_train)\n",
    "\n",
    "y_pred = clf.predict(X_te_sc)\n",
    "#混合行列を作成\n",
    "tn, fp, fn, tp = confusion_matrix(y_test, y_pred).ravel()\n",
    "accuracy = 100 * (tn+tp)/(tn+fp+fn+tp)\n",
    "recall = 100 * (tp)/(fn+tp)\n",
    "precision = 100 * (tp)/(fp+tp)\n",
    "print('Accuracy = {:.3f}%'.format(accuracy))\n",
    "print('Recall = {:.3f}%'.format(recall))\n",
    "print('Precision = {:.3f}%'.format(precision))"
   ]
  },
  {
   "cell_type": "code",
   "execution_count": 71,
   "metadata": {},
   "outputs": [
    {
     "data": {
      "text/html": [
       "<div>\n",
       "<style scoped>\n",
       "    .dataframe tbody tr th:only-of-type {\n",
       "        vertical-align: middle;\n",
       "    }\n",
       "\n",
       "    .dataframe tbody tr th {\n",
       "        vertical-align: top;\n",
       "    }\n",
       "\n",
       "    .dataframe thead th {\n",
       "        text-align: right;\n",
       "    }\n",
       "</style>\n",
       "<table border=\"1\" class=\"dataframe\">\n",
       "  <thead>\n",
       "    <tr style=\"text-align: right;\">\n",
       "      <th></th>\n",
       "      <th>予測 = クラウドファンディング成功</th>\n",
       "      <th>予測 = クラウドファンディング失敗</th>\n",
       "    </tr>\n",
       "  </thead>\n",
       "  <tbody>\n",
       "    <tr>\n",
       "      <th>正解 = クラウドファンディング成功</th>\n",
       "      <td>30648</td>\n",
       "      <td>9082</td>\n",
       "    </tr>\n",
       "    <tr>\n",
       "      <th>正解 = クラウドファンディング失敗</th>\n",
       "      <td>12382</td>\n",
       "      <td>14222</td>\n",
       "    </tr>\n",
       "  </tbody>\n",
       "</table>\n",
       "</div>"
      ],
      "text/plain": [
       "                    予測 = クラウドファンディング成功  予測 = クラウドファンディング失敗\n",
       "正解 = クラウドファンディング成功               30648                9082\n",
       "正解 = クラウドファンディング失敗               12382               14222"
      ]
     },
     "metadata": {},
     "output_type": "display_data"
    },
    {
     "data": {
      "image/png": "[encoded data removed]",
      "text/plain": [
       "<Figure size 432x288 with 2 Axes>"
      ]
     },
     "metadata": {
      "needs_background": "light"
     },
     "output_type": "display_data"
    }
   ],
   "source": [
    "# 予測値と正解のクロス集計\n",
    "conf_mat = pd.DataFrame(confusion_matrix(y_test,y_pred),\n",
    "                       index=[\"正解 = クラウドファンディング成功\",\"正解 = クラウドファンディング失敗\"],\n",
    "                       columns=[\"予測 = クラウドファンディング成功\", \"予測 = クラウドファンディング失敗\"])\n",
    "display(conf_mat)\n",
    "sns.heatmap(confusion_matrix(y_test, y_pred),annot=True,fmt='d')\n",
    "plt.show()"
   ]
  },
  {
   "cell_type": "markdown",
   "metadata": {},
   "source": [
    "ハイパーパラメータチューニングを行う"
   ]
  },
  {
   "cell_type": "code",
   "execution_count": 72,
   "metadata": {},
   "outputs": [
    {
     "name": "stdout",
     "output_type": "stream",
     "text": [
      "{'n_estimators': 5} 0.6731941900519337\n"
     ]
    }
   ],
   "source": [
    "param = {\"n_estimators\":[5,10,15,30]}\n",
    "\n",
    "model = AdaBoostClassifier(DecisionTreeClassifier(max_depth=10, criterion=\"entropy\",\n",
    "                                                 min_samples_leaf=2, min_samples_split=3),\n",
    "                         random_state=1234)\n",
    "\n",
    "clf = GridSearchCV(model,param,cv=5)\n",
    "clf.fit(X_tr_sc,y_train)\n",
    "print(clf.best_params_, clf.best_score_)"
   ]
  },
  {
   "cell_type": "code",
   "execution_count": 73,
   "metadata": {},
   "outputs": [
    {
     "name": "stdout",
     "output_type": "stream",
     "text": [
      "Fold 1\n",
      "Accuracy = 67.587%\n",
      "Recall = 52.269%\n",
      "Precision = 61.171%\n",
      "\n",
      "Fold 2\n",
      "Accuracy = 67.230%\n",
      "Recall = 51.947%\n",
      "Precision = 61.295%\n",
      "\n",
      "Fold 3\n",
      "Accuracy = 67.433%\n",
      "Recall = 51.528%\n",
      "Precision = 61.948%\n",
      "\n",
      "Fold 4\n",
      "Accuracy = 67.362%\n",
      "Recall = 52.909%\n",
      "Precision = 61.373%\n",
      "\n",
      "Fold 5\n",
      "Accuracy = 67.615%\n",
      "Recall = 52.973%\n",
      "Precision = 61.104%\n",
      "\n",
      "平均 Accuracy = 67.446%\n",
      "平均 Recall = 52.325%\n",
      "平均 Precision = 61.378%\n"
     ]
    }
   ],
   "source": [
    "# 分割数n_splits, ランダム性の固定を行うrandom_state, データのシャッフルを行うかを指定するshuffleを引数に与える\n",
    "n_split = 5 \n",
    "\n",
    "kf=KFold(n_splits=n_split, random_state=1234, shuffle=True)\n",
    "\n",
    "acc = 0\n",
    "rec = 0\n",
    "pre = 0\n",
    "split_num = 1\n",
    "# テスト役を交代させながら学習と評価を繰り返す\n",
    "for train_idx, test_idx in kf.split(x, y):\n",
    "    X_train, y_train = x[train_idx], y[train_idx] #学習用データ\n",
    "    X_test, y_test = x[test_idx], y[test_idx]  #テスト用データ\n",
    "    \n",
    "    #標準化をする\n",
    "    X_tr_sc = std_scaler.fit_transform(X_train)\n",
    "    X_te_sc = std_scaler.transform(X_test)\n",
    "    #ハイパーパラメーターチューニングの結果を使用\n",
    "    clf2 = AdaBoostClassifier(DecisionTreeClassifier(max_depth=10, criterion=\"entropy\",\n",
    "                                                 min_samples_leaf=2, min_samples_split=3),\n",
    "                         random_state=1234, n_estimators=5) \n",
    "    # 学習用データを使って線形回帰モデルを学習\n",
    "    clf2.fit(X_tr_sc,y_train)\n",
    "    \n",
    "   #クロスバリデーションの結果を算出\n",
    "    y_pred = clf2.predict(X_te_sc)\n",
    "    tn, fp, fn, tp = confusion_matrix(y_test, y_pred).ravel() \n",
    "    accuracy = 100 * (tn+tp)/(tn+fp+fn+tp)\n",
    "    recall = 100 * (tp)/(fn+tp)\n",
    "    precision = 100 * (tp)/(fp+tp)\n",
    "    print(\"Fold %s\"%split_num)\n",
    "    print('Accuracy = {:.3f}%'.format(accuracy)) \n",
    "    print('Recall = {:.3f}%'.format(recall)) \n",
    "    print('Precision = {:.3f}%'.format(precision))\n",
    "    print()\n",
    "\n",
    "    acc += accuracy\n",
    "    rec += recall\n",
    "    pre += precision\n",
    "    split_num +=1\n",
    "\n",
    "final_acc = acc / n_split\n",
    "final_rec = rec / n_split\n",
    "final_pre = pre / n_split\n",
    "print('平均 Accuracy = {:.3f}%'.format(final_acc))\n",
    "print('平均 Recall = {:.3f}%'.format(final_rec))\n",
    "print('平均 Precision = {:.3f}%'.format(final_pre))\n",
    "    "
   ]
  },
  {
   "cell_type": "markdown",
   "metadata": {},
   "source": [
    "ランダムフォレストより更に、精度が向上した"
   ]
  },
  {
   "cell_type": "markdown",
   "metadata": {},
   "source": [
    "----\n",
    "### 12.ニューラルネットワーク"
   ]
  },
  {
   "cell_type": "code",
   "execution_count": 74,
   "metadata": {},
   "outputs": [],
   "source": [
    "#無相関化したデータを用いる\n",
    "y = df_csv[\"state\"].values\n",
    "x = df_csv.drop(columns=[\"state\"]).values\n",
    "test_size = 0.3\n",
    "#学習用データ、テスト用データに分割する\n",
    "X_train, X_test, y_train, y_test = train_test_split(x, y, test_size=test_size)\n",
    "#正解クラスをone-hotエンコーディング\n",
    "from tensorflow.keras.utils import to_categorical\n",
    "y_train_encode = to_categorical(y_train)\n",
    "y_test_encode = to_categorical(y_test)"
   ]
  },
  {
   "cell_type": "code",
   "execution_count": 75,
   "metadata": {
    "scrolled": true
   },
   "outputs": [
    {
     "name": "stdout",
     "output_type": "stream",
     "text": [
      "(232170, 7)\n",
      "\n",
      "(99502, 7)\n",
      "\n",
      "(232170,)\n",
      "\n",
      "(99502,)\n"
     ]
    }
   ],
   "source": [
    "#改めて訓練データ、テストデータを確認する\n",
    "print(X_train.shape)\n",
    "print()\n",
    "print(X_test.shape)\n",
    "print()\n",
    "print(y_train.shape)\n",
    "print()\n",
    "print(y_test.shape)"
   ]
  },
  {
   "cell_type": "code",
   "execution_count": 76,
   "metadata": {},
   "outputs": [
    {
     "name": "stdout",
     "output_type": "stream",
     "text": [
      "WARNING:tensorflow:From C:\\Users\\progr\\Anaconda3\\lib\\site-packages\\tensorflow\\python\\ops\\init_ops.py:1251: calling VarianceScaling.__init__ (from tensorflow.python.ops.init_ops) with dtype is deprecated and will be removed in a future version.\n",
      "Instructions for updating:\n",
      "Call initializer instance with the dtype argument instead of passing it to the constructor\n"
     ]
    }
   ],
   "source": [
    "#必要なライブラリをインポート\n",
    "from tensorflow.compat.v1.keras import Sequential\n",
    "from tensorflow.compat.v1.keras.layers import Dense, Dropout, Activation\n",
    "from tensorflow.compat.v1.keras.optimizers import SGD,RMSprop, Adagrad, Adadelta, Adam\n",
    "\n",
    "#学習率、エポックを定める\n",
    "batch_size = 40\n",
    "epochs = 30\n",
    "\n",
    "#modelを構築する\n",
    "#今回は7層とする\n",
    "#活性化関数にreluを用いる\n",
    "model = Sequential()\n",
    "model.add(Dense(26, activation='relu', input_shape=(7,)))\n",
    "model.add(Dense(26, activation='relu'))\n",
    "model.add(Dense(30, activation='relu'))\n",
    "model.add(Dense(2, activation='softmax'))\n",
    "\n",
    "#今回はAdamを用いる\n",
    "# ------ 最適化手法 ------\n",
    "#sgd = SGD(lr=0.01, momentum=0.9, nesterov=False)\n",
    "# rms = RMSprop(lr=0.01)\n",
    "# adag = Adagrad(lr=0.01)\n",
    "# adad = Adadelta(lr=0.01)\n",
    "adam = Adam(lr=0.01)\n",
    "# -----------------------------\n",
    "\n",
    "#modelをコンパイラする\n",
    "model.compile(loss='categorical_crossentropy',\n",
    "              optimizer=adam,\n",
    "              metrics=['accuracy'])"
   ]
  },
  {
   "cell_type": "code",
   "execution_count": 78,
   "metadata": {
    "scrolled": true
   },
   "outputs": [
    {
     "name": "stdout",
     "output_type": "stream",
     "text": [
      "Train on 232170 samples, validate on 99502 samples\n",
      "Epoch 1/30\n",
      "232170/232170 [==============================] - 5s 22us/sample - loss: 0.6746 - acc: 0.5971 - val_loss: 0.6754 - val_acc: 0.5939\n",
      "Epoch 2/30\n",
      "232170/232170 [==============================] - 5s 22us/sample - loss: 0.6745 - acc: 0.5971 - val_loss: 0.6762 - val_acc: 0.5939\n",
      "Epoch 3/30\n",
      "232170/232170 [==============================] - 5s 21us/sample - loss: 0.6746 - acc: 0.5971 - val_loss: 0.6754 - val_acc: 0.5939\n",
      "Epoch 4/30\n",
      "232170/232170 [==============================] - 5s 22us/sample - loss: 0.6746 - acc: 0.5971 - val_loss: 0.6755 - val_acc: 0.5939\n",
      "Epoch 5/30\n",
      "232170/232170 [==============================] - 5s 21us/sample - loss: 0.6745 - acc: 0.5971 - val_loss: 0.6763 - val_acc: 0.5939\n",
      "Epoch 6/30\n",
      "232170/232170 [==============================] - 5s 21us/sample - loss: 0.6745 - acc: 0.5971 - val_loss: 0.6758 - val_acc: 0.5939\n",
      "Epoch 7/30\n",
      "232170/232170 [==============================] - 5s 21us/sample - loss: 0.6746 - acc: 0.5971 - val_loss: 0.6766 - val_acc: 0.5939\n",
      "Epoch 8/30\n",
      "232170/232170 [==============================] - 5s 21us/sample - loss: 0.6745 - acc: 0.5971 - val_loss: 0.6755 - val_acc: 0.5939\n",
      "Epoch 9/30\n",
      "232170/232170 [==============================] - 5s 21us/sample - loss: 0.6745 - acc: 0.5971 - val_loss: 0.6754 - val_acc: 0.5939\n",
      "Epoch 10/30\n",
      "232170/232170 [==============================] - 5s 21us/sample - loss: 0.6745 - acc: 0.5971 - val_loss: 0.6759 - val_acc: 0.5939\n",
      "Epoch 11/30\n",
      "232170/232170 [==============================] - 5s 21us/sample - loss: 0.6745 - acc: 0.5971 - val_loss: 0.6755 - val_acc: 0.5939\n",
      "Epoch 12/30\n",
      "232170/232170 [==============================] - 5s 22us/sample - loss: 0.6746 - acc: 0.5971 - val_loss: 0.6755 - val_acc: 0.5939\n",
      "Epoch 13/30\n",
      "232170/232170 [==============================] - 5s 21us/sample - loss: 0.6746 - acc: 0.5971 - val_loss: 0.6755 - val_acc: 0.5939\n",
      "Epoch 14/30\n",
      "232170/232170 [==============================] - 5s 21us/sample - loss: 0.6746 - acc: 0.5971 - val_loss: 0.6755 - val_acc: 0.5939\n",
      "Epoch 15/30\n",
      "232170/232170 [==============================] - 5s 21us/sample - loss: 0.6745 - acc: 0.5971 - val_loss: 0.6756 - val_acc: 0.5939\n",
      "Epoch 16/30\n",
      "232170/232170 [==============================] - 5s 21us/sample - loss: 0.6746 - acc: 0.5971 - val_loss: 0.6756 - val_acc: 0.5939\n",
      "Epoch 17/30\n",
      "232170/232170 [==============================] - 5s 22us/sample - loss: 0.6746 - acc: 0.5971 - val_loss: 0.6754 - val_acc: 0.5939\n",
      "Epoch 18/30\n",
      "232170/232170 [==============================] - 5s 21us/sample - loss: 0.6745 - acc: 0.5971 - val_loss: 0.6754 - val_acc: 0.5939\n",
      "Epoch 19/30\n",
      "232170/232170 [==============================] - 5s 22us/sample - loss: 0.6745 - acc: 0.5971 - val_loss: 0.6758 - val_acc: 0.5939\n",
      "Epoch 20/30\n",
      "232170/232170 [==============================] - 5s 22us/sample - loss: 0.6746 - acc: 0.5971 - val_loss: 0.6756 - val_acc: 0.5939\n",
      "Epoch 21/30\n",
      "232170/232170 [==============================] - 5s 21us/sample - loss: 0.6746 - acc: 0.5971 - val_loss: 0.6754 - val_acc: 0.5939\n",
      "Epoch 22/30\n",
      "232170/232170 [==============================] - 5s 21us/sample - loss: 0.6746 - acc: 0.5971 - val_loss: 0.6755 - val_acc: 0.5939\n",
      "Epoch 23/30\n",
      "232170/232170 [==============================] - 5s 22us/sample - loss: 0.6746 - acc: 0.5971 - val_loss: 0.6754 - val_acc: 0.5939\n",
      "Epoch 24/30\n",
      "232170/232170 [==============================] - 5s 21us/sample - loss: 0.6745 - acc: 0.5971 - val_loss: 0.6754 - val_acc: 0.5939\n",
      "Epoch 25/30\n",
      "232170/232170 [==============================] - 5s 21us/sample - loss: 0.6745 - acc: 0.5971 - val_loss: 0.6760 - val_acc: 0.5939\n",
      "Epoch 26/30\n",
      "232170/232170 [==============================] - 5s 23us/sample - loss: 0.6745 - acc: 0.5971 - val_loss: 0.6757 - val_acc: 0.5939\n",
      "Epoch 27/30\n",
      "232170/232170 [==============================] - 5s 21us/sample - loss: 0.6746 - acc: 0.5971 - val_loss: 0.6755 - val_acc: 0.5939\n",
      "Epoch 28/30\n",
      "232170/232170 [==============================] - 5s 21us/sample - loss: 0.6746 - acc: 0.5971 - val_loss: 0.6755 - val_acc: 0.5939\n",
      "Epoch 29/30\n",
      "232170/232170 [==============================] - 5s 23us/sample - loss: 0.6746 - acc: 0.5971 - val_loss: 0.6769 - val_acc: 0.5939\n",
      "Epoch 30/30\n",
      "232170/232170 [==============================] - 5s 23us/sample - loss: 0.6745 - acc: 0.5971 - val_loss: 0.6754 - val_acc: 0.5939\n"
     ]
    }
   ],
   "source": [
    "#学習\n",
    "fit = model.fit(X_train, y_train_encode,epochs=epochs,batch_size=batch_size,\n",
    "               validation_data=(X_test, y_test_encode))"
   ]
  },
  {
   "cell_type": "code",
   "execution_count": 79,
   "metadata": {},
   "outputs": [
    {
     "data": {
      "image/png": "[encoded data removed]",
      "text/plain": [
       "<Figure size 432x288 with 1 Axes>"
      ]
     },
     "metadata": {
      "needs_background": "light"
     },
     "output_type": "display_data"
    },
    {
     "data": {
      "image/png": "[encoded data removed]",
      "text/plain": [
       "<Figure size 432x288 with 1 Axes>"
      ]
     },
     "metadata": {
      "needs_background": "light"
     },
     "output_type": "display_data"
    }
   ],
   "source": [
    "#loss関数とaccuracyをDataFrameにまとめる\n",
    "df = pd.DataFrame(fit.history)\n",
    "\n",
    "# グラフ化\n",
    "df[[\"loss\", \"val_loss\"]].plot()\n",
    "plt.ylabel(\"loss\")\n",
    "plt.xlabel(\"epoch\")\n",
    "plt.show()\n",
    "\n",
    "df[[\"acc\", \"val_acc\"]].plot()\n",
    "plt.ylabel(\"acc\")\n",
    "plt.xlabel(\"epoch\")\n",
    "plt.ylim([0,1.0])\n",
    "plt.show()"
   ]
  },
  {
   "cell_type": "code",
   "execution_count": 80,
   "metadata": {},
   "outputs": [
    {
     "name": "stdout",
     "output_type": "stream",
     "text": [
      "Accuracy = 59.394%\n",
      "Recall = 0.000%\n",
      "Precision = nan%\n"
     ]
    },
    {
     "name": "stderr",
     "output_type": "stream",
     "text": [
      "C:\\Users\\progr\\Anaconda3\\lib\\site-packages\\ipykernel_launcher.py:5: RuntimeWarning: invalid value encountered in longlong_scalars\n",
      "  \"\"\"\n"
     ]
    }
   ],
   "source": [
    "y_pred = np.argmax(model.predict(X_test),axis=1)\n",
    "tn, fp, fn, tp = confusion_matrix(y_test, y_pred).ravel()\n",
    "accuracy = 100 * (tn+tp)/(tn+fp+fn+tp)\n",
    "recall = 100 * (tp)/(fn+tp)\n",
    "precision = 100 * (tp)/(fp+tp)\n",
    "print('Accuracy = {:.3f}%'.format(accuracy))\n",
    "print('Recall = {:.3f}%'.format(recall))\n",
    "print('Precision = {:.3f}%'.format(precision))"
   ]
  },
  {
   "cell_type": "markdown",
   "metadata": {},
   "source": [
    "学習回数は精度に関係がないことが確認できる"
   ]
  },
  {
   "cell_type": "markdown",
   "metadata": {},
   "source": [
    "更に、精度もあまりよくないことから、現段階の知識では最適な手段とは判断できない"
   ]
  },
  {
   "cell_type": "markdown",
   "metadata": {},
   "source": [
    "----\n",
    "### 11.ニューラルネットワーク - 標準化"
   ]
  },
  {
   "cell_type": "code",
   "execution_count": 81,
   "metadata": {},
   "outputs": [],
   "source": [
    "#無相関化したデータを用いる\n",
    "y = df_csv[\"state\"].values\n",
    "x = df_csv.drop(columns=[\"state\"]).values\n",
    "test_size = 0.3\n",
    "#学習用データ、テスト用データに分割する\n",
    "X_train, X_test, y_train, y_test = train_test_split(x, y, test_size=test_size)\n",
    "\n",
    "#標準化をする\n",
    "X_tr_sc = std_scaler.fit_transform(X_train)\n",
    "X_te_sc = std_scaler.transform(X_test)\n",
    "#正解クラスをone-hotエンコーディング\n",
    "y_train_encode = to_categorical(y_train)\n",
    "y_test_encode = to_categorical(y_test)\n"
   ]
  },
  {
   "cell_type": "code",
   "execution_count": 82,
   "metadata": {},
   "outputs": [],
   "source": [
    "#学習率、エポックを定める\n",
    "batch_size = 40\n",
    "epochs = 30\n",
    "\n",
    "#今回は活性化関数にreluを用い、7層で学習を試みる\n",
    "#全結合型\n",
    "#出力時にsigmoid関数を用いる\n",
    "model = Sequential()\n",
    "model.add(Dense(units=16, activation='relu', input_shape=(7,)))\n",
    "model.add(Dense(units=16, activation='relu'))\n",
    "model.add(Dense(units=10, activation='relu'))\n",
    "model.add(Dense(2,activation=\"softmax\"))\n",
    "\n",
    "#最適化手法にAdamを使用する\n",
    "# ------ 最適化手法 ------\n",
    "#sgd = SGD(lr=0.01, momentum=0.9, nesterov=False)\n",
    "# rms = RMSprop(lr=0.01)\n",
    "# adag = Adagrad(lr=0.01)\n",
    "# adad = Adadelta(lr=0.01)\n",
    "adam = Adam(lr=0.01)\n",
    "# -----------------------------\n",
    "\n",
    "model.compile(loss='categorical_crossentropy',\n",
    "              optimizer=adam,\n",
    "              metrics=['accuracy'])"
   ]
  },
  {
   "cell_type": "code",
   "execution_count": 83,
   "metadata": {
    "scrolled": true
   },
   "outputs": [
    {
     "name": "stdout",
     "output_type": "stream",
     "text": [
      "Train on 232170 samples, validate on 99502 samples\n",
      "Epoch 1/30\n",
      "232170/232170 [==============================] - 5s 22us/sample - loss: 0.6476 - acc: 0.6155 - val_loss: 0.6325 - val_acc: 0.6419\n",
      "Epoch 2/30\n",
      "232170/232170 [==============================] - 5s 22us/sample - loss: 0.6335 - acc: 0.6354 - val_loss: 0.6277 - val_acc: 0.6421\n",
      "Epoch 3/30\n",
      "232170/232170 [==============================] - 5s 21us/sample - loss: 0.6308 - acc: 0.6364 - val_loss: 0.6295 - val_acc: 0.6427\n",
      "Epoch 4/30\n",
      "232170/232170 [==============================] - 5s 21us/sample - loss: 0.6292 - acc: 0.6392 - val_loss: 0.6265 - val_acc: 0.6408\n",
      "Epoch 5/30\n",
      "232170/232170 [==============================] - 5s 22us/sample - loss: 0.6279 - acc: 0.6402 - val_loss: 0.6226 - val_acc: 0.6474\n",
      "Epoch 6/30\n",
      "232170/232170 [==============================] - 5s 22us/sample - loss: 0.6267 - acc: 0.6417 - val_loss: 0.6247 - val_acc: 0.6388\n",
      "Epoch 7/30\n",
      "232170/232170 [==============================] - 5s 21us/sample - loss: 0.6259 - acc: 0.6441 - val_loss: 0.6238 - val_acc: 0.6465\n",
      "Epoch 8/30\n",
      "232170/232170 [==============================] - 5s 21us/sample - loss: 0.6245 - acc: 0.6453 - val_loss: 0.6243 - val_acc: 0.6456\n",
      "Epoch 9/30\n",
      "232170/232170 [==============================] - 5s 21us/sample - loss: 0.6242 - acc: 0.6447 - val_loss: 0.6218 - val_acc: 0.6492\n",
      "Epoch 10/30\n",
      "232170/232170 [==============================] - 5s 22us/sample - loss: 0.6225 - acc: 0.6481 - val_loss: 0.6198 - val_acc: 0.6500\n",
      "Epoch 11/30\n",
      "232170/232170 [==============================] - 5s 22us/sample - loss: 0.6230 - acc: 0.6469 - val_loss: 0.6201 - val_acc: 0.6503\n",
      "Epoch 12/30\n",
      "232170/232170 [==============================] - 5s 23us/sample - loss: 0.6224 - acc: 0.6483 - val_loss: 0.6192 - val_acc: 0.6515\n",
      "Epoch 13/30\n",
      "232170/232170 [==============================] - 5s 22us/sample - loss: 0.6212 - acc: 0.6497 - val_loss: 0.6200 - val_acc: 0.6506\n",
      "Epoch 14/30\n",
      "232170/232170 [==============================] - 5s 21us/sample - loss: 0.6209 - acc: 0.6493 - val_loss: 0.6197 - val_acc: 0.6513\n",
      "Epoch 15/30\n",
      "232170/232170 [==============================] - 5s 21us/sample - loss: 0.6207 - acc: 0.6504 - val_loss: 0.6200 - val_acc: 0.6492\n",
      "Epoch 16/30\n",
      "232170/232170 [==============================] - 5s 21us/sample - loss: 0.6207 - acc: 0.6499 - val_loss: 0.6217 - val_acc: 0.6428\n",
      "Epoch 17/30\n",
      "232170/232170 [==============================] - 5s 21us/sample - loss: 0.6207 - acc: 0.6497 - val_loss: 0.6208 - val_acc: 0.6507\n",
      "Epoch 18/30\n",
      "232170/232170 [==============================] - 5s 21us/sample - loss: 0.6207 - acc: 0.6495 - val_loss: 0.6215 - val_acc: 0.6489\n",
      "Epoch 19/30\n",
      "232170/232170 [==============================] - 5s 21us/sample - loss: 0.6208 - acc: 0.6495 - val_loss: 0.6201 - val_acc: 0.6495\n",
      "Epoch 20/30\n",
      "232170/232170 [==============================] - 5s 21us/sample - loss: 0.6203 - acc: 0.6502 - val_loss: 0.6203 - val_acc: 0.6513\n",
      "Epoch 21/30\n",
      "232170/232170 [==============================] - 5s 21us/sample - loss: 0.6203 - acc: 0.6500 - val_loss: 0.6168 - val_acc: 0.6556\n",
      "Epoch 22/30\n",
      "232170/232170 [==============================] - 5s 21us/sample - loss: 0.6211 - acc: 0.6492 - val_loss: 0.6203 - val_acc: 0.6527\n",
      "Epoch 23/30\n",
      "232170/232170 [==============================] - 5s 21us/sample - loss: 0.6204 - acc: 0.6500 - val_loss: 0.6156 - val_acc: 0.6544\n",
      "Epoch 24/30\n",
      "232170/232170 [==============================] - 5s 21us/sample - loss: 0.6201 - acc: 0.6503 - val_loss: 0.6182 - val_acc: 0.6542\n",
      "Epoch 25/30\n",
      "232170/232170 [==============================] - 5s 21us/sample - loss: 0.6196 - acc: 0.6515 - val_loss: 0.6206 - val_acc: 0.6465\n",
      "Epoch 26/30\n",
      "232170/232170 [==============================] - 5s 21us/sample - loss: 0.6202 - acc: 0.6507 - val_loss: 0.6193 - val_acc: 0.6496\n",
      "Epoch 27/30\n",
      "232170/232170 [==============================] - 5s 21us/sample - loss: 0.6195 - acc: 0.6515 - val_loss: 0.6169 - val_acc: 0.6569\n",
      "Epoch 28/30\n",
      "232170/232170 [==============================] - 5s 21us/sample - loss: 0.6196 - acc: 0.6513 - val_loss: 0.6200 - val_acc: 0.6462\n",
      "Epoch 29/30\n",
      "232170/232170 [==============================] - 5s 21us/sample - loss: 0.6195 - acc: 0.6513 - val_loss: 0.6187 - val_acc: 0.6520\n",
      "Epoch 30/30\n",
      "232170/232170 [==============================] - 5s 21us/sample - loss: 0.6199 - acc: 0.6502 - val_loss: 0.6143 - val_acc: 0.6558\n"
     ]
    }
   ],
   "source": [
    "#学習\n",
    "fit = model.fit(X_tr_sc, y_train_encode,epochs=epochs,batch_size=batch_size,\n",
    "                validation_data=(X_te_sc, y_test_encode))"
   ]
  },
  {
   "cell_type": "code",
   "execution_count": 84,
   "metadata": {},
   "outputs": [
    {
     "data": {
      "image/png": "[encoded data removed]",
      "text/plain": [
       "<Figure size 432x288 with 1 Axes>"
      ]
     },
     "metadata": {
      "needs_background": "light"
     },
     "output_type": "display_data"
    },
    {
     "data": {
      "image/png": "[encoded data removed]",
      "text/plain": [
       "<Figure size 432x288 with 1 Axes>"
      ]
     },
     "metadata": {
      "needs_background": "light"
     },
     "output_type": "display_data"
    }
   ],
   "source": [
    "#loss関数とaccuracyをDataFrameにまとめる\n",
    "df = pd.DataFrame(fit.history)\n",
    "# グラフ化\n",
    "df[[\"loss\", \"val_loss\"]].plot()\n",
    "plt.ylabel(\"loss\")\n",
    "plt.xlabel(\"epoch\")\n",
    "plt.show()\n",
    "\n",
    "df[[\"acc\", \"val_acc\"]].plot()\n",
    "plt.ylabel(\"accuracy\")\n",
    "plt.xlabel(\"epoch\")\n",
    "plt.ylim([0,1.0])\n",
    "plt.show()"
   ]
  },
  {
   "cell_type": "code",
   "execution_count": 85,
   "metadata": {},
   "outputs": [
    {
     "name": "stdout",
     "output_type": "stream",
     "text": [
      "Accuracy = 65.584%\n",
      "Recall = 43.023%\n",
      "Precision = 59.983%\n"
     ]
    }
   ],
   "source": [
    "y_pred = np.argmax(model.predict(X_te_sc),axis=1)\n",
    "tn, fp, fn, tp = confusion_matrix(y_test, y_pred).ravel()\n",
    "accuracy = 100 * (tn+tp)/(tn+fp+fn+tp)\n",
    "recall = 100 * (tp)/(fn+tp)\n",
    "precision = 100 * (tp)/(fp+tp)\n",
    "print('Accuracy = {:.3f}%'.format(accuracy))\n",
    "print('Recall = {:.3f}%'.format(recall))\n",
    "print('Precision = {:.3f}%'.format(precision))"
   ]
  },
  {
   "cell_type": "markdown",
   "metadata": {},
   "source": [
    "やはり、精度は上昇したものの、今回では最適な手段と判断できない"
   ]
  },
  {
   "cell_type": "markdown",
   "metadata": {},
   "source": [
    "----\n",
    "### 12.ニューラルネットワーク - 標準化 - Dropout法"
   ]
  },
  {
   "cell_type": "code",
   "execution_count": 86,
   "metadata": {},
   "outputs": [],
   "source": [
    "#学習率、エポックを定める\n",
    "batch_size = 40\n",
    "epochs = 20\n",
    "\n",
    "#今回は活性化関数にreluを用い、dropout法を用いる\n",
    "model = Sequential()\n",
    "model.add(Dense(units=40, activation='relu', input_shape=(7,)))\n",
    "model.add(Dropout(0.1)) \n",
    "model.add(Dense(units=40, activation='relu'))\n",
    "model.add(Dropout(0.1)) \n",
    "model.add(Dense(units=20, activation='relu'))\n",
    "model.add(Dropout(0.1)) \n",
    "model.add(Dense(2,activation='softmax'))\n",
    "\n",
    "#最適化手法にAdamを使用する\n",
    "# ------ 最適化手法 ------\n",
    "# sgd = SGD(lr=0.01, momentum=0.9, nesterov=False)\n",
    "# rms = RMSprop(lr=0.01)\n",
    "# adag = Adagrad(lr=0.01)\n",
    "# adad = Adadelta(lr=0.01)\n",
    "adam = Adam(lr=0.01)\n",
    "# -----------------------------\n",
    "\n",
    "model.compile(loss='categorical_crossentropy',\n",
    "              optimizer=adam,\n",
    "              metrics=['accuracy'])"
   ]
  },
  {
   "cell_type": "code",
   "execution_count": 87,
   "metadata": {
    "scrolled": true
   },
   "outputs": [
    {
     "name": "stdout",
     "output_type": "stream",
     "text": [
      "Train on 232170 samples, validate on 99502 samples\n",
      "Epoch 1/20\n",
      "232170/232170 [==============================] - 7s 29us/sample - loss: 0.6545 - acc: 0.6055 - val_loss: 0.6412 - val_acc: 0.6093\n",
      "Epoch 2/20\n",
      "232170/232170 [==============================] - 7s 29us/sample - loss: 0.6457 - acc: 0.6171 - val_loss: 0.6396 - val_acc: 0.6324\n",
      "Epoch 3/20\n",
      "232170/232170 [==============================] - 7s 29us/sample - loss: 0.6481 - acc: 0.6198 - val_loss: 0.6353 - val_acc: 0.6401\n",
      "Epoch 4/20\n",
      "232170/232170 [==============================] - 7s 28us/sample - loss: 0.6427 - acc: 0.6233 - val_loss: 0.6425 - val_acc: 0.6305\n",
      "Epoch 5/20\n",
      "232170/232170 [==============================] - 7s 28us/sample - loss: 0.6417 - acc: 0.6253 - val_loss: 0.6303 - val_acc: 0.6320\n",
      "Epoch 6/20\n",
      "232170/232170 [==============================] - 7s 28us/sample - loss: 0.6410 - acc: 0.6247 - val_loss: 0.6294 - val_acc: 0.6353\n",
      "Epoch 7/20\n",
      "232170/232170 [==============================] - 7s 29us/sample - loss: 0.6408 - acc: 0.6250 - val_loss: 0.6342 - val_acc: 0.6391\n",
      "Epoch 8/20\n",
      "232170/232170 [==============================] - 7s 28us/sample - loss: 0.6403 - acc: 0.6253 - val_loss: 0.6325 - val_acc: 0.6428\n",
      "Epoch 9/20\n",
      "232170/232170 [==============================] - 7s 31us/sample - loss: 0.6401 - acc: 0.6241 - val_loss: 0.6324 - val_acc: 0.6426\n",
      "Epoch 10/20\n",
      "232170/232170 [==============================] - 7s 28us/sample - loss: 0.6395 - acc: 0.6249 - val_loss: 0.6354 - val_acc: 0.6278\n",
      "Epoch 11/20\n",
      "232170/232170 [==============================] - 7s 28us/sample - loss: 0.6482 - acc: 0.6203 - val_loss: 0.6353 - val_acc: 0.6295\n",
      "Epoch 12/20\n",
      "232170/232170 [==============================] - 7s 29us/sample - loss: 0.6412 - acc: 0.6249 - val_loss: 0.6322 - val_acc: 0.6377\n",
      "Epoch 13/20\n",
      "232170/232170 [==============================] - 7s 31us/sample - loss: 0.6410 - acc: 0.6251 - val_loss: 0.6313 - val_acc: 0.6354\n",
      "Epoch 14/20\n",
      "232170/232170 [==============================] - 7s 29us/sample - loss: 0.6412 - acc: 0.6250 - val_loss: 0.6275 - val_acc: 0.6326\n",
      "Epoch 15/20\n",
      "232170/232170 [==============================] - 7s 29us/sample - loss: 0.6396 - acc: 0.6261 - val_loss: 0.6259 - val_acc: 0.6434\n",
      "Epoch 16/20\n",
      "232170/232170 [==============================] - 7s 29us/sample - loss: 0.6400 - acc: 0.6263 - val_loss: 0.6316 - val_acc: 0.6262\n",
      "Epoch 17/20\n",
      "232170/232170 [==============================] - 7s 29us/sample - loss: 0.6392 - acc: 0.6267 - val_loss: 0.6284 - val_acc: 0.6416\n",
      "Epoch 18/20\n",
      "232170/232170 [==============================] - 6s 28us/sample - loss: 0.6399 - acc: 0.6260 - val_loss: 0.6294 - val_acc: 0.6385\n",
      "Epoch 19/20\n",
      "232170/232170 [==============================] - 7s 29us/sample - loss: 0.6425 - acc: 0.6258 - val_loss: 0.6311 - val_acc: 0.6326\n",
      "Epoch 20/20\n",
      "232170/232170 [==============================] - 7s 28us/sample - loss: 0.6391 - acc: 0.6264 - val_loss: 0.6326 - val_acc: 0.6225\n"
     ]
    }
   ],
   "source": [
    "#学習\n",
    "fit = model.fit(X_tr_sc, y_train_encode,epochs=epochs,batch_size=batch_size,\n",
    "                validation_data=(X_te_sc, y_test_encode))"
   ]
  },
  {
   "cell_type": "code",
   "execution_count": 88,
   "metadata": {},
   "outputs": [
    {
     "data": {
      "image/png": "[encoded data removed]",
      "text/plain": [
       "<Figure size 432x288 with 1 Axes>"
      ]
     },
     "metadata": {
      "needs_background": "light"
     },
     "output_type": "display_data"
    },
    {
     "data": {
      "image/png": "[encoded data removed]",
      "text/plain": [
       "<Figure size 432x288 with 1 Axes>"
      ]
     },
     "metadata": {
      "needs_background": "light"
     },
     "output_type": "display_data"
    }
   ],
   "source": [
    "#loss関数とaccuracyをDataFrameにまとめる\n",
    "df = pd.DataFrame(fit.history)\n",
    "# グラフ化\n",
    "df[[\"loss\", \"val_loss\"]].plot()\n",
    "plt.ylabel(\"loss\")\n",
    "plt.xlabel(\"epoch\")\n",
    "plt.show()\n",
    "\n",
    "df[[\"acc\", \"val_acc\"]].plot()\n",
    "plt.ylabel(\"accuracy\")\n",
    "plt.xlabel(\"epoch\")\n",
    "plt.ylim([0,1.0])\n",
    "plt.show()"
   ]
  },
  {
   "cell_type": "code",
   "execution_count": 89,
   "metadata": {},
   "outputs": [
    {
     "name": "stdout",
     "output_type": "stream",
     "text": [
      "Accuracy = 62.250%\n",
      "Recall = 14.952%\n",
      "Precision = 62.609%\n"
     ]
    }
   ],
   "source": [
    "y_pred = np.argmax(model.predict(X_te_sc),axis=1)\n",
    "tn, fp, fn, tp = confusion_matrix(y_test, y_pred).ravel()\n",
    "accuracy = 100 * (tn+tp)/(tn+fp+fn+tp)\n",
    "recall = 100 * (tp)/(fn+tp)\n",
    "precision = 100 * (tp)/(fp+tp)\n",
    "print('Accuracy = {:.3f}%'.format(accuracy))\n",
    "print('Recall = {:.3f}%'.format(recall))\n",
    "print('Precision = {:.3f}%'.format(precision))"
   ]
  },
  {
   "cell_type": "markdown",
   "metadata": {},
   "source": [
    "lossがepoch20の付近で上昇しているため増やして学習させる"
   ]
  },
  {
   "cell_type": "code",
   "execution_count": 90,
   "metadata": {
    "scrolled": true
   },
   "outputs": [
    {
     "name": "stdout",
     "output_type": "stream",
     "text": [
      "Train on 232170 samples, validate on 99502 samples\n",
      "Epoch 1/45\n",
      "232170/232170 [==============================] - 7s 28us/sample - loss: 0.6387 - acc: 0.6276 - val_loss: 0.6274 - val_acc: 0.6434\n",
      "Epoch 2/45\n",
      "232170/232170 [==============================] - 6s 28us/sample - loss: 0.6386 - acc: 0.6270 - val_loss: 0.6265 - val_acc: 0.6381\n",
      "Epoch 3/45\n",
      "232170/232170 [==============================] - 6s 27us/sample - loss: 0.6395 - acc: 0.6275 - val_loss: 0.6275 - val_acc: 0.6407\n",
      "Epoch 4/45\n",
      "232170/232170 [==============================] - 7s 29us/sample - loss: 0.6386 - acc: 0.6273 - val_loss: 0.6306 - val_acc: 0.6307\n",
      "Epoch 5/45\n",
      "232170/232170 [==============================] - 7s 29us/sample - loss: 0.6390 - acc: 0.6271 - val_loss: 0.6261 - val_acc: 0.6464\n",
      "Epoch 6/45\n",
      "232170/232170 [==============================] - 7s 30us/sample - loss: 0.6386 - acc: 0.6280 - val_loss: 0.6286 - val_acc: 0.6402\n",
      "Epoch 7/45\n",
      "232170/232170 [==============================] - 7s 29us/sample - loss: 0.6383 - acc: 0.6272 - val_loss: 0.6246 - val_acc: 0.6426\n",
      "Epoch 8/45\n",
      "232170/232170 [==============================] - 6s 28us/sample - loss: 0.6386 - acc: 0.6274 - val_loss: 0.6292 - val_acc: 0.6354\n",
      "Epoch 9/45\n",
      "232170/232170 [==============================] - 7s 29us/sample - loss: 0.6382 - acc: 0.6268 - val_loss: 0.6246 - val_acc: 0.6435\n",
      "Epoch 10/45\n",
      "232170/232170 [==============================] - 7s 29us/sample - loss: 0.6386 - acc: 0.6281 - val_loss: 0.6373 - val_acc: 0.6157\n",
      "Epoch 11/45\n",
      "232170/232170 [==============================] - 7s 29us/sample - loss: 0.6383 - acc: 0.6282 - val_loss: 0.6270 - val_acc: 0.6388\n",
      "Epoch 12/45\n",
      "232170/232170 [==============================] - 6s 28us/sample - loss: 0.6376 - acc: 0.6292 - val_loss: 0.6353 - val_acc: 0.6217\n",
      "Epoch 13/45\n",
      "232170/232170 [==============================] - 7s 29us/sample - loss: 0.6379 - acc: 0.6284 - val_loss: 0.6287 - val_acc: 0.6435\n",
      "Epoch 14/45\n",
      "232170/232170 [==============================] - 6s 28us/sample - loss: 0.6375 - acc: 0.6279 - val_loss: 0.6292 - val_acc: 0.6326\n",
      "Epoch 15/45\n",
      "232170/232170 [==============================] - 7s 28us/sample - loss: 0.6386 - acc: 0.6272 - val_loss: 0.6292 - val_acc: 0.6467\n",
      "Epoch 16/45\n",
      "232170/232170 [==============================] - 7s 30us/sample - loss: 0.6384 - acc: 0.6285 - val_loss: 0.6332 - val_acc: 0.6254\n",
      "Epoch 17/45\n",
      "232170/232170 [==============================] - 7s 31us/sample - loss: 0.6371 - acc: 0.6304 - val_loss: 0.6240 - val_acc: 0.6452\n",
      "Epoch 18/45\n",
      "232170/232170 [==============================] - 7s 30us/sample - loss: 0.6382 - acc: 0.6274 - val_loss: 0.6288 - val_acc: 0.6379\n",
      "Epoch 19/45\n",
      "232170/232170 [==============================] - 7s 32us/sample - loss: 0.6376 - acc: 0.6293 - val_loss: 0.6289 - val_acc: 0.6353\n",
      "Epoch 20/45\n",
      "232170/232170 [==============================] - 7s 29us/sample - loss: 0.6382 - acc: 0.6281 - val_loss: 0.6287 - val_acc: 0.6462\n",
      "Epoch 21/45\n",
      "232170/232170 [==============================] - 7s 30us/sample - loss: 0.6381 - acc: 0.6267 - val_loss: 0.6337 - val_acc: 0.6280\n",
      "Epoch 22/45\n",
      "232170/232170 [==============================] - 7s 30us/sample - loss: 0.6379 - acc: 0.6276 - val_loss: 0.6359 - val_acc: 0.6462\n",
      "Epoch 23/45\n",
      "232170/232170 [==============================] - 7s 29us/sample - loss: 0.6380 - acc: 0.6274 - val_loss: 0.6287 - val_acc: 0.6383\n",
      "Epoch 24/45\n",
      "232170/232170 [==============================] - 7s 28us/sample - loss: 0.6379 - acc: 0.6279 - val_loss: 0.6273 - val_acc: 0.6445\n",
      "Epoch 25/45\n",
      "232170/232170 [==============================] - 6s 28us/sample - loss: 0.6372 - acc: 0.6289 - val_loss: 0.6289 - val_acc: 0.6456\n",
      "Epoch 26/45\n",
      "232170/232170 [==============================] - 6s 28us/sample - loss: 0.6380 - acc: 0.6269 - val_loss: 0.6273 - val_acc: 0.6414\n",
      "Epoch 27/45\n",
      "232170/232170 [==============================] - 6s 27us/sample - loss: 0.6378 - acc: 0.6284 - val_loss: 0.6259 - val_acc: 0.6422\n",
      "Epoch 28/45\n",
      "232170/232170 [==============================] - 6s 27us/sample - loss: 0.6369 - acc: 0.6302 - val_loss: 0.6254 - val_acc: 0.6399\n",
      "Epoch 29/45\n",
      "232170/232170 [==============================] - 6s 28us/sample - loss: 0.6371 - acc: 0.6291 - val_loss: 0.6276 - val_acc: 0.6343\n",
      "Epoch 30/45\n",
      "232170/232170 [==============================] - 7s 28us/sample - loss: 0.6366 - acc: 0.6285 - val_loss: 0.6326 - val_acc: 0.6254\n",
      "Epoch 31/45\n",
      "232170/232170 [==============================] - 6s 28us/sample - loss: 0.6366 - acc: 0.6299 - val_loss: 0.6290 - val_acc: 0.6458\n",
      "Epoch 32/45\n",
      "232170/232170 [==============================] - 6s 27us/sample - loss: 0.6373 - acc: 0.6278 - val_loss: 0.6253 - val_acc: 0.6416\n",
      "Epoch 33/45\n",
      "232170/232170 [==============================] - 6s 28us/sample - loss: 0.6365 - acc: 0.6295 - val_loss: 0.6231 - val_acc: 0.6451\n",
      "Epoch 34/45\n",
      "232170/232170 [==============================] - 7s 31us/sample - loss: 0.6370 - acc: 0.6297 - val_loss: 0.6320 - val_acc: 0.6416\n",
      "Epoch 35/45\n",
      "232170/232170 [==============================] - 7s 29us/sample - loss: 0.6366 - acc: 0.6277 - val_loss: 0.6280 - val_acc: 0.6383\n",
      "Epoch 36/45\n",
      "232170/232170 [==============================] - 8s 33us/sample - loss: 0.6366 - acc: 0.6270 - val_loss: 0.6260 - val_acc: 0.6401\n",
      "Epoch 37/45\n",
      "232170/232170 [==============================] - 7s 29us/sample - loss: 0.6365 - acc: 0.6283 - val_loss: 0.6243 - val_acc: 0.6400\n",
      "Epoch 38/45\n",
      "232170/232170 [==============================] - 7s 29us/sample - loss: 0.6363 - acc: 0.6291 - val_loss: 0.6235 - val_acc: 0.6359\n",
      "Epoch 39/45\n",
      "232170/232170 [==============================] - 7s 31us/sample - loss: 0.6362 - acc: 0.6312 - val_loss: 0.6252 - val_acc: 0.6403\n",
      "Epoch 40/45\n",
      "232170/232170 [==============================] - 7s 29us/sample - loss: 0.6376 - acc: 0.6284 - val_loss: 0.6293 - val_acc: 0.6440\n",
      "Epoch 41/45\n",
      "232170/232170 [==============================] - 7s 29us/sample - loss: 0.6369 - acc: 0.6289 - val_loss: 0.6259 - val_acc: 0.6386\n",
      "Epoch 42/45\n",
      "232170/232170 [==============================] - 7s 29us/sample - loss: 0.6362 - acc: 0.6311 - val_loss: 0.6268 - val_acc: 0.6423\n",
      "Epoch 43/45\n",
      "232170/232170 [==============================] - 7s 31us/sample - loss: 0.6369 - acc: 0.6284 - val_loss: 0.6265 - val_acc: 0.6455\n",
      "Epoch 44/45\n",
      "232170/232170 [==============================] - 7s 29us/sample - loss: 0.6361 - acc: 0.6288 - val_loss: 0.6257 - val_acc: 0.6349\n",
      "Epoch 45/45\n",
      "232170/232170 [==============================] - 7s 30us/sample - loss: 0.6360 - acc: 0.6290 - val_loss: 0.6235 - val_acc: 0.6447\n"
     ]
    }
   ],
   "source": [
    "epochs = 45\n",
    "#学習\n",
    "fit = model.fit(X_tr_sc, y_train_encode,epochs=epochs,batch_size=batch_size,\n",
    "                validation_data=(X_te_sc, y_test_encode))"
   ]
  },
  {
   "cell_type": "code",
   "execution_count": 91,
   "metadata": {},
   "outputs": [
    {
     "data": {
      "image/png": "[encoded data removed]",
      "text/plain": [
       "<Figure size 432x288 with 1 Axes>"
      ]
     },
     "metadata": {
      "needs_background": "light"
     },
     "output_type": "display_data"
    },
    {
     "data": {
      "image/png": "[encoded data removed]",
      "text/plain": [
       "<Figure size 432x288 with 1 Axes>"
      ]
     },
     "metadata": {
      "needs_background": "light"
     },
     "output_type": "display_data"
    }
   ],
   "source": [
    "#loss関数とaccuracyをDataFrameにまとめる\n",
    "df = pd.DataFrame(fit.history)\n",
    "# グラフ化\n",
    "df[[\"loss\", \"val_loss\"]].plot()\n",
    "plt.ylabel(\"loss\")\n",
    "plt.xlabel(\"epoch\")\n",
    "plt.show()\n",
    "\n",
    "df[[\"acc\", \"val_acc\"]].plot()\n",
    "plt.ylabel(\"accuracy\")\n",
    "plt.xlabel(\"epoch\")\n",
    "plt.ylim([0,1.0])\n",
    "plt.show()"
   ]
  },
  {
   "cell_type": "code",
   "execution_count": 92,
   "metadata": {},
   "outputs": [
    {
     "name": "stdout",
     "output_type": "stream",
     "text": [
      "Accuracy = 64.465%\n",
      "Recall = 32.946%\n",
      "Precision = 60.612%\n"
     ]
    }
   ],
   "source": [
    "y_pred = np.argmax(model.predict(X_te_sc),axis=1)\n",
    "tn, fp, fn, tp = confusion_matrix(y_test, y_pred).ravel()\n",
    "accuracy = 100 * (tn+tp)/(tn+fp+fn+tp)\n",
    "recall = 100 * (tp)/(fn+tp)\n",
    "precision = 100 * (tp)/(fp+tp)\n",
    "print('Accuracy = {:.3f}%'.format(accuracy))\n",
    "print('Recall = {:.3f}%'.format(recall))\n",
    "print('Precision = {:.3f}%'.format(precision))"
   ]
  },
  {
   "cell_type": "markdown",
   "metadata": {},
   "source": [
    "-----------\n",
    "### まとめ"
   ]
  },
  {
   "cell_type": "markdown",
   "metadata": {},
   "source": [
    "#### 今回の最適な結果\n",
    "* 説明変数 : \"day\",\"usd_goal_real\",\"country\",\"goal\",\"currency\",\"main_category\",\"category\",\"name\"\n",
    "* 前処理 : 標準化\n",
    "* モデル : AdaBoostClassifier(DecisionTreeClassifier(max_depth=10, criterion=\"entropy\", min_samples_leaf=2, min_samples_split=3),random_state=1234, n_estimators=5) \n",
    "\n",
    "#### 精度結果\n",
    "* Accuracy : 67.446%\n",
    "* Recall : 52.325%\n",
    "* precision : 61.378%\n",
    "\n",
    "\n"
   ]
  },
  {
   "cell_type": "markdown",
   "metadata": {},
   "source": [
    "今回はディープラーニングの知識があまりないため深く掘り下げることはできなかったが、決定木でもSVMと同等な精度かそれ以上の結果が得られた"
   ]
  },
  {
   "cell_type": "markdown",
   "metadata": {},
   "source": [
    "最後にクラウドファンディングの目標金額を集めるためには時代の流行や、プロジェクト開始から5日の達成率やPRの仕方などを説明変数として扱うことが出来れば精度は向上するのではないだろうかと感じた"
   ]
  }
 ],
 "metadata": {
  "kernelspec": {
   "display_name": "Python 3",
   "language": "python",
   "name": "python3"
  },
  "language_info": {
   "codemirror_mode": {
    "name": "ipython",
    "version": 3
   },
   "file_extension": ".py",
   "mimetype": "text/x-python",
   "name": "python",
   "nbconvert_exporter": "python",
   "pygments_lexer": "ipython3",
   "version": "3.7.3"
  }
 },
 "nbformat": 4,
 "nbformat_minor": 4
}
